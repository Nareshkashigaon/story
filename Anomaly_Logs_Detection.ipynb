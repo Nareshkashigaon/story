{
  "nbformat": 4,
  "nbformat_minor": 0,
  "metadata": {
    "kernelspec": {
      "display_name": "Python 3",
      "language": "python",
      "name": "python3"
    },
    "language_info": {
      "codemirror_mode": {
        "name": "ipython",
        "version": 3
      },
      "file_extension": ".py",
      "mimetype": "text/x-python",
      "name": "python",
      "nbconvert_exporter": "python",
      "pygments_lexer": "ipython3",
      "version": "3.7.4"
    },
    "colab": {
      "name": "Updated Anomaly Detection.ipynb",
      "provenance": []
    }
  },
  "cells": [
    {
      "cell_type": "markdown",
      "metadata": {
        "id": "VpeCYrprlV06"
      },
      "source": [
        "# Import Neccessary Librabies"
      ]
    },
    {
      "cell_type": "code",
      "metadata": {
        "id": "xQ0hJyr-lV0_",
        "colab": {
          "base_uri": "https://localhost:8080/"
        },
        "outputId": "d83e18e7-6bb8-488f-af51-95baaace5b6e"
      },
      "source": [
        "!wget https://raw.githubusercontent.com/uttej2001/Anomaly-Logs-Detection/main/logs_dataset.zip # Assuming this is the raw link\n",
        "\n",
        "import pandas as pd\n",
        "import numpy as np\n",
        "import datetime as dt\n",
        "import random\n",
        "\n",
        "import matplotlib.pyplot as plt\n",
        "%matplotlib inline\n",
        "\n",
        "plt.style.use('ggplot')\n",
        "import matplotlib.style as style\n",
        "style.use('fivethirtyeight')\n",
        "plt.rcParams['figure.figsize'] = (15, 8)\n",
        "\n",
        "\n",
        "from sklearn import preprocessing\n",
        "from sklearn.decomposition import PCA\n",
        "import warnings\n",
        "warnings.filterwarnings('ignore')"
      ],
      "execution_count": 27,
      "outputs": [
        {
          "output_type": "stream",
          "name": "stdout",
          "text": [
            "--2025-07-21 18:48:24--  https://raw.githubusercontent.com/uttej2001/Anomaly-Logs-Detection/main/logs_dataset.zip\n",
            "Resolving raw.githubusercontent.com (raw.githubusercontent.com)... 185.199.111.133, 185.199.110.133, 185.199.108.133, ...\n",
            "Connecting to raw.githubusercontent.com (raw.githubusercontent.com)|185.199.111.133|:443... connected.\n",
            "HTTP request sent, awaiting response... 200 OK\n",
            "Length: 9433456 (9.0M) [application/zip]\n",
            "Saving to: ‘logs_dataset.zip.3’\n",
            "\n",
            "\rlogs_dataset.zip.3    0%[                    ]       0  --.-KB/s               \rlogs_dataset.zip.3  100%[===================>]   9.00M  --.-KB/s    in 0.05s   \n",
            "\n",
            "2025-07-21 18:48:25 (164 MB/s) - ‘logs_dataset.zip.3’ saved [9433456/9433456]\n",
            "\n"
          ]
        }
      ]
    },
    {
      "cell_type": "code",
      "metadata": {
        "id": "DZIVG7e3lV1D"
      },
      "source": [
        "df=pd.read_csv(\"logs_dataset.csv\")"
      ],
      "execution_count": 28,
      "outputs": []
    },
    {
      "cell_type": "code",
      "metadata": {
        "id": "0f_CgJN3lV1E",
        "outputId": "5821cf33-e5a4-4685-fd0b-80aaae866923",
        "colab": {
          "base_uri": "https://localhost:8080/",
          "height": 423
        }
      },
      "source": [
        "df"
      ],
      "execution_count": 29,
      "outputs": [
        {
          "output_type": "execute_result",
          "data": {
            "text/plain": [
              "                         @timestamp                   _id  ip_address\n",
              "0       July 8th 2019, 14:43:03.000  XswJ0msBoTGddM7vxMDB  10.1.1.285\n",
              "1       July 8th 2019, 14:43:01.000  dKQJ0msB7mP0GwVzvJjz  10.1.2.389\n",
              "2       July 8th 2019, 14:42:59.000  CcwJ0msBoTGddM7vtb8y  10.1.1.415\n",
              "3       July 8th 2019, 14:42:57.000  bKQJ0msB7mP0GwVzrZdT   10.1.1.79\n",
              "4       July 8th 2019, 14:42:55.000  L6QJ0msB7mP0GwVzpZeI   10.1.1.60\n",
              "...                             ...                   ...         ...\n",
              "721542  June 9th 2019, 00:00:25.000  dkWJOWsBoTGddM7vRUOR   10.1.2.66\n",
              "721543  June 9th 2019, 00:00:19.000  TBuJOWsB7mP0GwVzLmol  10.1.1.249\n",
              "721544  June 9th 2019, 00:00:15.000  vUWJOWsBoTGddM7vHkGD  10.1.1.200\n",
              "721545  June 9th 2019, 00:00:09.000  aUWJOWsBoTGddM7vB0AR  10.1.2.432\n",
              "721546  June 9th 2019, 00:00:05.000  AEWIOWsBoTGddM7v90Bw  10.1.2.156\n",
              "\n",
              "[721547 rows x 3 columns]"
            ],
            "text/html": [
              "\n",
              "  <div id=\"df-c793a30d-132e-47fe-bfa9-ad66de2ddf97\" class=\"colab-df-container\">\n",
              "    <div>\n",
              "<style scoped>\n",
              "    .dataframe tbody tr th:only-of-type {\n",
              "        vertical-align: middle;\n",
              "    }\n",
              "\n",
              "    .dataframe tbody tr th {\n",
              "        vertical-align: top;\n",
              "    }\n",
              "\n",
              "    .dataframe thead th {\n",
              "        text-align: right;\n",
              "    }\n",
              "</style>\n",
              "<table border=\"1\" class=\"dataframe\">\n",
              "  <thead>\n",
              "    <tr style=\"text-align: right;\">\n",
              "      <th></th>\n",
              "      <th>@timestamp</th>\n",
              "      <th>_id</th>\n",
              "      <th>ip_address</th>\n",
              "    </tr>\n",
              "  </thead>\n",
              "  <tbody>\n",
              "    <tr>\n",
              "      <th>0</th>\n",
              "      <td>July 8th 2019, 14:43:03.000</td>\n",
              "      <td>XswJ0msBoTGddM7vxMDB</td>\n",
              "      <td>10.1.1.285</td>\n",
              "    </tr>\n",
              "    <tr>\n",
              "      <th>1</th>\n",
              "      <td>July 8th 2019, 14:43:01.000</td>\n",
              "      <td>dKQJ0msB7mP0GwVzvJjz</td>\n",
              "      <td>10.1.2.389</td>\n",
              "    </tr>\n",
              "    <tr>\n",
              "      <th>2</th>\n",
              "      <td>July 8th 2019, 14:42:59.000</td>\n",
              "      <td>CcwJ0msBoTGddM7vtb8y</td>\n",
              "      <td>10.1.1.415</td>\n",
              "    </tr>\n",
              "    <tr>\n",
              "      <th>3</th>\n",
              "      <td>July 8th 2019, 14:42:57.000</td>\n",
              "      <td>bKQJ0msB7mP0GwVzrZdT</td>\n",
              "      <td>10.1.1.79</td>\n",
              "    </tr>\n",
              "    <tr>\n",
              "      <th>4</th>\n",
              "      <td>July 8th 2019, 14:42:55.000</td>\n",
              "      <td>L6QJ0msB7mP0GwVzpZeI</td>\n",
              "      <td>10.1.1.60</td>\n",
              "    </tr>\n",
              "    <tr>\n",
              "      <th>...</th>\n",
              "      <td>...</td>\n",
              "      <td>...</td>\n",
              "      <td>...</td>\n",
              "    </tr>\n",
              "    <tr>\n",
              "      <th>721542</th>\n",
              "      <td>June 9th 2019, 00:00:25.000</td>\n",
              "      <td>dkWJOWsBoTGddM7vRUOR</td>\n",
              "      <td>10.1.2.66</td>\n",
              "    </tr>\n",
              "    <tr>\n",
              "      <th>721543</th>\n",
              "      <td>June 9th 2019, 00:00:19.000</td>\n",
              "      <td>TBuJOWsB7mP0GwVzLmol</td>\n",
              "      <td>10.1.1.249</td>\n",
              "    </tr>\n",
              "    <tr>\n",
              "      <th>721544</th>\n",
              "      <td>June 9th 2019, 00:00:15.000</td>\n",
              "      <td>vUWJOWsBoTGddM7vHkGD</td>\n",
              "      <td>10.1.1.200</td>\n",
              "    </tr>\n",
              "    <tr>\n",
              "      <th>721545</th>\n",
              "      <td>June 9th 2019, 00:00:09.000</td>\n",
              "      <td>aUWJOWsBoTGddM7vB0AR</td>\n",
              "      <td>10.1.2.432</td>\n",
              "    </tr>\n",
              "    <tr>\n",
              "      <th>721546</th>\n",
              "      <td>June 9th 2019, 00:00:05.000</td>\n",
              "      <td>AEWIOWsBoTGddM7v90Bw</td>\n",
              "      <td>10.1.2.156</td>\n",
              "    </tr>\n",
              "  </tbody>\n",
              "</table>\n",
              "<p>721547 rows × 3 columns</p>\n",
              "</div>\n",
              "    <div class=\"colab-df-buttons\">\n",
              "\n",
              "  <div class=\"colab-df-container\">\n",
              "    <button class=\"colab-df-convert\" onclick=\"convertToInteractive('df-c793a30d-132e-47fe-bfa9-ad66de2ddf97')\"\n",
              "            title=\"Convert this dataframe to an interactive table.\"\n",
              "            style=\"display:none;\">\n",
              "\n",
              "  <svg xmlns=\"http://www.w3.org/2000/svg\" height=\"24px\" viewBox=\"0 -960 960 960\">\n",
              "    <path d=\"M120-120v-720h720v720H120Zm60-500h600v-160H180v160Zm220 220h160v-160H400v160Zm0 220h160v-160H400v160ZM180-400h160v-160H180v160Zm440 0h160v-160H620v160ZM180-180h160v-160H180v160Zm440 0h160v-160H620v160Z\"/>\n",
              "  </svg>\n",
              "    </button>\n",
              "\n",
              "  <style>\n",
              "    .colab-df-container {\n",
              "      display:flex;\n",
              "      gap: 12px;\n",
              "    }\n",
              "\n",
              "    .colab-df-convert {\n",
              "      background-color: #E8F0FE;\n",
              "      border: none;\n",
              "      border-radius: 50%;\n",
              "      cursor: pointer;\n",
              "      display: none;\n",
              "      fill: #1967D2;\n",
              "      height: 32px;\n",
              "      padding: 0 0 0 0;\n",
              "      width: 32px;\n",
              "    }\n",
              "\n",
              "    .colab-df-convert:hover {\n",
              "      background-color: #E2EBFA;\n",
              "      box-shadow: 0px 1px 2px rgba(60, 64, 67, 0.3), 0px 1px 3px 1px rgba(60, 64, 67, 0.15);\n",
              "      fill: #174EA6;\n",
              "    }\n",
              "\n",
              "    .colab-df-buttons div {\n",
              "      margin-bottom: 4px;\n",
              "    }\n",
              "\n",
              "    [theme=dark] .colab-df-convert {\n",
              "      background-color: #3B4455;\n",
              "      fill: #D2E3FC;\n",
              "    }\n",
              "\n",
              "    [theme=dark] .colab-df-convert:hover {\n",
              "      background-color: #434B5C;\n",
              "      box-shadow: 0px 1px 3px 1px rgba(0, 0, 0, 0.15);\n",
              "      filter: drop-shadow(0px 1px 2px rgba(0, 0, 0, 0.3));\n",
              "      fill: #FFFFFF;\n",
              "    }\n",
              "  </style>\n",
              "\n",
              "    <script>\n",
              "      const buttonEl =\n",
              "        document.querySelector('#df-c793a30d-132e-47fe-bfa9-ad66de2ddf97 button.colab-df-convert');\n",
              "      buttonEl.style.display =\n",
              "        google.colab.kernel.accessAllowed ? 'block' : 'none';\n",
              "\n",
              "      async function convertToInteractive(key) {\n",
              "        const element = document.querySelector('#df-c793a30d-132e-47fe-bfa9-ad66de2ddf97');\n",
              "        const dataTable =\n",
              "          await google.colab.kernel.invokeFunction('convertToInteractive',\n",
              "                                                    [key], {});\n",
              "        if (!dataTable) return;\n",
              "\n",
              "        const docLinkHtml = 'Like what you see? Visit the ' +\n",
              "          '<a target=\"_blank\" href=https://colab.research.google.com/notebooks/data_table.ipynb>data table notebook</a>'\n",
              "          + ' to learn more about interactive tables.';\n",
              "        element.innerHTML = '';\n",
              "        dataTable['output_type'] = 'display_data';\n",
              "        await google.colab.output.renderOutput(dataTable, element);\n",
              "        const docLink = document.createElement('div');\n",
              "        docLink.innerHTML = docLinkHtml;\n",
              "        element.appendChild(docLink);\n",
              "      }\n",
              "    </script>\n",
              "  </div>\n",
              "\n",
              "\n",
              "    <div id=\"df-ce404166-eb38-461c-ab82-fc8c22dea3d7\">\n",
              "      <button class=\"colab-df-quickchart\" onclick=\"quickchart('df-ce404166-eb38-461c-ab82-fc8c22dea3d7')\"\n",
              "                title=\"Suggest charts\"\n",
              "                style=\"display:none;\">\n",
              "\n",
              "<svg xmlns=\"http://www.w3.org/2000/svg\" height=\"24px\"viewBox=\"0 0 24 24\"\n",
              "     width=\"24px\">\n",
              "    <g>\n",
              "        <path d=\"M19 3H5c-1.1 0-2 .9-2 2v14c0 1.1.9 2 2 2h14c1.1 0 2-.9 2-2V5c0-1.1-.9-2-2-2zM9 17H7v-7h2v7zm4 0h-2V7h2v10zm4 0h-2v-4h2v4z\"/>\n",
              "    </g>\n",
              "</svg>\n",
              "      </button>\n",
              "\n",
              "<style>\n",
              "  .colab-df-quickchart {\n",
              "      --bg-color: #E8F0FE;\n",
              "      --fill-color: #1967D2;\n",
              "      --hover-bg-color: #E2EBFA;\n",
              "      --hover-fill-color: #174EA6;\n",
              "      --disabled-fill-color: #AAA;\n",
              "      --disabled-bg-color: #DDD;\n",
              "  }\n",
              "\n",
              "  [theme=dark] .colab-df-quickchart {\n",
              "      --bg-color: #3B4455;\n",
              "      --fill-color: #D2E3FC;\n",
              "      --hover-bg-color: #434B5C;\n",
              "      --hover-fill-color: #FFFFFF;\n",
              "      --disabled-bg-color: #3B4455;\n",
              "      --disabled-fill-color: #666;\n",
              "  }\n",
              "\n",
              "  .colab-df-quickchart {\n",
              "    background-color: var(--bg-color);\n",
              "    border: none;\n",
              "    border-radius: 50%;\n",
              "    cursor: pointer;\n",
              "    display: none;\n",
              "    fill: var(--fill-color);\n",
              "    height: 32px;\n",
              "    padding: 0;\n",
              "    width: 32px;\n",
              "  }\n",
              "\n",
              "  .colab-df-quickchart:hover {\n",
              "    background-color: var(--hover-bg-color);\n",
              "    box-shadow: 0 1px 2px rgba(60, 64, 67, 0.3), 0 1px 3px 1px rgba(60, 64, 67, 0.15);\n",
              "    fill: var(--button-hover-fill-color);\n",
              "  }\n",
              "\n",
              "  .colab-df-quickchart-complete:disabled,\n",
              "  .colab-df-quickchart-complete:disabled:hover {\n",
              "    background-color: var(--disabled-bg-color);\n",
              "    fill: var(--disabled-fill-color);\n",
              "    box-shadow: none;\n",
              "  }\n",
              "\n",
              "  .colab-df-spinner {\n",
              "    border: 2px solid var(--fill-color);\n",
              "    border-color: transparent;\n",
              "    border-bottom-color: var(--fill-color);\n",
              "    animation:\n",
              "      spin 1s steps(1) infinite;\n",
              "  }\n",
              "\n",
              "  @keyframes spin {\n",
              "    0% {\n",
              "      border-color: transparent;\n",
              "      border-bottom-color: var(--fill-color);\n",
              "      border-left-color: var(--fill-color);\n",
              "    }\n",
              "    20% {\n",
              "      border-color: transparent;\n",
              "      border-left-color: var(--fill-color);\n",
              "      border-top-color: var(--fill-color);\n",
              "    }\n",
              "    30% {\n",
              "      border-color: transparent;\n",
              "      border-left-color: var(--fill-color);\n",
              "      border-top-color: var(--fill-color);\n",
              "      border-right-color: var(--fill-color);\n",
              "    }\n",
              "    40% {\n",
              "      border-color: transparent;\n",
              "      border-right-color: var(--fill-color);\n",
              "      border-top-color: var(--fill-color);\n",
              "    }\n",
              "    60% {\n",
              "      border-color: transparent;\n",
              "      border-right-color: var(--fill-color);\n",
              "    }\n",
              "    80% {\n",
              "      border-color: transparent;\n",
              "      border-right-color: var(--fill-color);\n",
              "      border-bottom-color: var(--fill-color);\n",
              "    }\n",
              "    90% {\n",
              "      border-color: transparent;\n",
              "      border-bottom-color: var(--fill-color);\n",
              "    }\n",
              "  }\n",
              "</style>\n",
              "\n",
              "      <script>\n",
              "        async function quickchart(key) {\n",
              "          const quickchartButtonEl =\n",
              "            document.querySelector('#' + key + ' button');\n",
              "          quickchartButtonEl.disabled = true;  // To prevent multiple clicks.\n",
              "          quickchartButtonEl.classList.add('colab-df-spinner');\n",
              "          try {\n",
              "            const charts = await google.colab.kernel.invokeFunction(\n",
              "                'suggestCharts', [key], {});\n",
              "          } catch (error) {\n",
              "            console.error('Error during call to suggestCharts:', error);\n",
              "          }\n",
              "          quickchartButtonEl.classList.remove('colab-df-spinner');\n",
              "          quickchartButtonEl.classList.add('colab-df-quickchart-complete');\n",
              "        }\n",
              "        (() => {\n",
              "          let quickchartButtonEl =\n",
              "            document.querySelector('#df-ce404166-eb38-461c-ab82-fc8c22dea3d7 button');\n",
              "          quickchartButtonEl.style.display =\n",
              "            google.colab.kernel.accessAllowed ? 'block' : 'none';\n",
              "        })();\n",
              "      </script>\n",
              "    </div>\n",
              "\n",
              "  <div id=\"id_77e16011-c08d-4859-961a-0a7040c7f7dc\">\n",
              "    <style>\n",
              "      .colab-df-generate {\n",
              "        background-color: #E8F0FE;\n",
              "        border: none;\n",
              "        border-radius: 50%;\n",
              "        cursor: pointer;\n",
              "        display: none;\n",
              "        fill: #1967D2;\n",
              "        height: 32px;\n",
              "        padding: 0 0 0 0;\n",
              "        width: 32px;\n",
              "      }\n",
              "\n",
              "      .colab-df-generate:hover {\n",
              "        background-color: #E2EBFA;\n",
              "        box-shadow: 0px 1px 2px rgba(60, 64, 67, 0.3), 0px 1px 3px 1px rgba(60, 64, 67, 0.15);\n",
              "        fill: #174EA6;\n",
              "      }\n",
              "\n",
              "      [theme=dark] .colab-df-generate {\n",
              "        background-color: #3B4455;\n",
              "        fill: #D2E3FC;\n",
              "      }\n",
              "\n",
              "      [theme=dark] .colab-df-generate:hover {\n",
              "        background-color: #434B5C;\n",
              "        box-shadow: 0px 1px 3px 1px rgba(0, 0, 0, 0.15);\n",
              "        filter: drop-shadow(0px 1px 2px rgba(0, 0, 0, 0.3));\n",
              "        fill: #FFFFFF;\n",
              "      }\n",
              "    </style>\n",
              "    <button class=\"colab-df-generate\" onclick=\"generateWithVariable('df')\"\n",
              "            title=\"Generate code using this dataframe.\"\n",
              "            style=\"display:none;\">\n",
              "\n",
              "  <svg xmlns=\"http://www.w3.org/2000/svg\" height=\"24px\"viewBox=\"0 0 24 24\"\n",
              "       width=\"24px\">\n",
              "    <path d=\"M7,19H8.4L18.45,9,17,7.55,7,17.6ZM5,21V16.75L18.45,3.32a2,2,0,0,1,2.83,0l1.4,1.43a1.91,1.91,0,0,1,.58,1.4,1.91,1.91,0,0,1-.58,1.4L9.25,21ZM18.45,9,17,7.55Zm-12,3A5.31,5.31,0,0,0,4.9,8.1,5.31,5.31,0,0,0,1,6.5,5.31,5.31,0,0,0,4.9,4.9,5.31,5.31,0,0,0,6.5,1,5.31,5.31,0,0,0,8.1,4.9,5.31,5.31,0,0,0,12,6.5,5.46,5.46,0,0,0,6.5,12Z\"/>\n",
              "  </svg>\n",
              "    </button>\n",
              "    <script>\n",
              "      (() => {\n",
              "      const buttonEl =\n",
              "        document.querySelector('#id_77e16011-c08d-4859-961a-0a7040c7f7dc button.colab-df-generate');\n",
              "      buttonEl.style.display =\n",
              "        google.colab.kernel.accessAllowed ? 'block' : 'none';\n",
              "\n",
              "      buttonEl.onclick = () => {\n",
              "        google.colab.notebook.generateWithVariable('df');\n",
              "      }\n",
              "      })();\n",
              "    </script>\n",
              "  </div>\n",
              "\n",
              "    </div>\n",
              "  </div>\n"
            ],
            "application/vnd.google.colaboratory.intrinsic+json": {
              "type": "dataframe",
              "variable_name": "df"
            }
          },
          "metadata": {},
          "execution_count": 29
        }
      ]
    },
    {
      "cell_type": "markdown",
      "metadata": {
        "id": "ByYoDCvKlV1H"
      },
      "source": [
        "# Feature Extraction"
      ]
    },
    {
      "cell_type": "code",
      "metadata": {
        "id": "ZUSI7k6RlV1I"
      },
      "source": [
        "df['@timestamp'] = pd.to_datetime(df['@timestamp'], format='mixed', dayfirst=False)"
      ],
      "execution_count": 36,
      "outputs": []
    },
    {
      "cell_type": "markdown",
      "metadata": {
        "id": "e_yel4MBlV1J"
      },
      "source": [
        "This changes the timestamp from original to modified form"
      ]
    },
    {
      "cell_type": "code",
      "metadata": {
        "id": "QwjkIjIPlV1K"
      },
      "source": [
        "df.sort_values(['ip_address', '@timestamp'], inplace=True)"
      ],
      "execution_count": 31,
      "outputs": []
    },
    {
      "cell_type": "markdown",
      "metadata": {
        "id": "fCJcUi2AlV1L"
      },
      "source": [
        "This sorts the dataset wrt to ip address and timestamp"
      ]
    },
    {
      "cell_type": "code",
      "metadata": {
        "id": "CvLq-J4HlV1M"
      },
      "source": [
        "df['shift_time'] = df.groupby(['ip_address'])['@timestamp'].shift(1)"
      ],
      "execution_count": 37,
      "outputs": []
    },
    {
      "cell_type": "markdown",
      "metadata": {
        "id": "9pGit_1alV1N"
      },
      "source": [
        "It creates shift_time column one shiftdown for timestamp coumn"
      ]
    },
    {
      "cell_type": "code",
      "metadata": {
        "id": "2U0PAdiylV1O"
      },
      "source": [
        "df['time_diff'] = (df['@timestamp'] - df['shift_time']).dt.seconds // 60"
      ],
      "execution_count": 38,
      "outputs": []
    },
    {
      "cell_type": "markdown",
      "metadata": {
        "id": "7-mXN82XlV1P"
      },
      "source": [
        "Finding the time differnce between timestamp and shift time"
      ]
    },
    {
      "cell_type": "code",
      "metadata": {
        "id": "R22hv3FtlV1Q"
      },
      "source": [
        "df['date'] = df['@timestamp'].dt.date"
      ],
      "execution_count": 39,
      "outputs": []
    },
    {
      "cell_type": "markdown",
      "metadata": {
        "id": "nD6Yr8pWlV1R"
      },
      "source": [
        "Extracting the date from timestamp and creating seperate column"
      ]
    },
    {
      "cell_type": "code",
      "metadata": {
        "id": "nCR3ufMhlV1S"
      },
      "source": [
        "df['weekday'] = df['@timestamp'].dt.weekday"
      ],
      "execution_count": 40,
      "outputs": []
    },
    {
      "cell_type": "markdown",
      "metadata": {
        "id": "74WAzxmUlV1T"
      },
      "source": [
        "Extracting the no of weekdays present in timestamp"
      ]
    },
    {
      "cell_type": "code",
      "metadata": {
        "id": "5KKM4OXUlV1U"
      },
      "source": [
        "df['hour'] = df['@timestamp'].dt.hour"
      ],
      "execution_count": 41,
      "outputs": []
    },
    {
      "cell_type": "markdown",
      "metadata": {
        "id": "E0ahswj1lV1V"
      },
      "source": [
        "Finding the no.of hours present in timestamp column"
      ]
    },
    {
      "cell_type": "code",
      "metadata": {
        "id": "C3ry12bplV1W"
      },
      "source": [
        "df['is_weekend'] = ((df['weekday']==5 |(df['weekday']==6)).astype(int))"
      ],
      "execution_count": 42,
      "outputs": []
    },
    {
      "cell_type": "markdown",
      "metadata": {
        "id": "TOXcgdYxlV1X"
      },
      "source": [
        "Finding how many weekend are present in timestamp"
      ]
    },
    {
      "cell_type": "code",
      "metadata": {
        "id": "UK5Yk5jLlV1Y"
      },
      "source": [
        "df['hour_bucket'] = df['hour']//4"
      ],
      "execution_count": 43,
      "outputs": []
    },
    {
      "cell_type": "code",
      "metadata": {
        "id": "lZuJEBzTlV1Z",
        "outputId": "18d450e7-c145-4884-e4db-ad16231ba80b",
        "colab": {
          "base_uri": "https://localhost:8080/",
          "height": 423
        }
      },
      "source": [
        "df"
      ],
      "execution_count": 44,
      "outputs": [
        {
          "output_type": "execute_result",
          "data": {
            "text/plain": [
              "                @timestamp                   _id ip_address  \\\n",
              "261040 2019-07-01 00:48:25  nAMBq2sB7mP0GwVzH8KU   10.1.1.1   \n",
              "259207 2019-07-01 02:04:47  UgdHq2sB7mP0GwVzCsoE   10.1.1.1   \n",
              "256672 2019-07-01 03:50:25  oDWnq2sBoTGddM7vv6rO   10.1.1.1   \n",
              "256381 2019-07-01 04:02:30  lQ6yq2sB7mP0GwVzzxnf   10.1.1.1   \n",
              "255058 2019-07-01 04:57:39  oxHlq2sB7mP0GwVzTRqn   10.1.1.1   \n",
              "...                    ...                   ...        ...   \n",
              "708493 2019-06-09 18:07:49  ZmtsPWsBoTGddM7v0Pzx  10.1.2.99   \n",
              "708317 2019-06-09 18:22:29  B0J6PWsB7mP0GwVzPrF1  10.1.2.99   \n",
              "708078 2019-06-09 18:42:25  oW2MPWsBoTGddM7vfjZR  10.1.2.99   \n",
              "705001 2019-06-09 22:58:49  LUx3PmsB7mP0GwVzPJcV  10.1.2.99   \n",
              "704625 2019-06-09 23:30:09  LHeTPmsBoTGddM7v63bR  10.1.2.99   \n",
              "\n",
              "                shift_time  time_diff        date  weekday  hour  is_weekend  \\\n",
              "261040                 NaT        NaN  2019-07-01        0     0           0   \n",
              "259207 2019-07-01 00:48:25       76.0  2019-07-01        0     2           0   \n",
              "256672 2019-07-01 02:04:47      105.0  2019-07-01        0     3           0   \n",
              "256381 2019-07-01 03:50:25       12.0  2019-07-01        0     4           0   \n",
              "255058 2019-07-01 04:02:30       55.0  2019-07-01        0     4           0   \n",
              "...                    ...        ...         ...      ...   ...         ...   \n",
              "708493 2019-06-09 17:45:05       22.0  2019-06-09        6    18           0   \n",
              "708317 2019-06-09 18:07:49       14.0  2019-06-09        6    18           0   \n",
              "708078 2019-06-09 18:22:29       19.0  2019-06-09        6    18           0   \n",
              "705001 2019-06-09 18:42:25      256.0  2019-06-09        6    22           0   \n",
              "704625 2019-06-09 22:58:49       31.0  2019-06-09        6    23           0   \n",
              "\n",
              "        hour_bucket  \n",
              "261040            0  \n",
              "259207            0  \n",
              "256672            0  \n",
              "256381            1  \n",
              "255058            1  \n",
              "...             ...  \n",
              "708493            4  \n",
              "708317            4  \n",
              "708078            4  \n",
              "705001            5  \n",
              "704625            5  \n",
              "\n",
              "[721547 rows x 10 columns]"
            ],
            "text/html": [
              "\n",
              "  <div id=\"df-903d819f-b053-4166-9e90-dae1753bfee1\" class=\"colab-df-container\">\n",
              "    <div>\n",
              "<style scoped>\n",
              "    .dataframe tbody tr th:only-of-type {\n",
              "        vertical-align: middle;\n",
              "    }\n",
              "\n",
              "    .dataframe tbody tr th {\n",
              "        vertical-align: top;\n",
              "    }\n",
              "\n",
              "    .dataframe thead th {\n",
              "        text-align: right;\n",
              "    }\n",
              "</style>\n",
              "<table border=\"1\" class=\"dataframe\">\n",
              "  <thead>\n",
              "    <tr style=\"text-align: right;\">\n",
              "      <th></th>\n",
              "      <th>@timestamp</th>\n",
              "      <th>_id</th>\n",
              "      <th>ip_address</th>\n",
              "      <th>shift_time</th>\n",
              "      <th>time_diff</th>\n",
              "      <th>date</th>\n",
              "      <th>weekday</th>\n",
              "      <th>hour</th>\n",
              "      <th>is_weekend</th>\n",
              "      <th>hour_bucket</th>\n",
              "    </tr>\n",
              "  </thead>\n",
              "  <tbody>\n",
              "    <tr>\n",
              "      <th>261040</th>\n",
              "      <td>2019-07-01 00:48:25</td>\n",
              "      <td>nAMBq2sB7mP0GwVzH8KU</td>\n",
              "      <td>10.1.1.1</td>\n",
              "      <td>NaT</td>\n",
              "      <td>NaN</td>\n",
              "      <td>2019-07-01</td>\n",
              "      <td>0</td>\n",
              "      <td>0</td>\n",
              "      <td>0</td>\n",
              "      <td>0</td>\n",
              "    </tr>\n",
              "    <tr>\n",
              "      <th>259207</th>\n",
              "      <td>2019-07-01 02:04:47</td>\n",
              "      <td>UgdHq2sB7mP0GwVzCsoE</td>\n",
              "      <td>10.1.1.1</td>\n",
              "      <td>2019-07-01 00:48:25</td>\n",
              "      <td>76.0</td>\n",
              "      <td>2019-07-01</td>\n",
              "      <td>0</td>\n",
              "      <td>2</td>\n",
              "      <td>0</td>\n",
              "      <td>0</td>\n",
              "    </tr>\n",
              "    <tr>\n",
              "      <th>256672</th>\n",
              "      <td>2019-07-01 03:50:25</td>\n",
              "      <td>oDWnq2sBoTGddM7vv6rO</td>\n",
              "      <td>10.1.1.1</td>\n",
              "      <td>2019-07-01 02:04:47</td>\n",
              "      <td>105.0</td>\n",
              "      <td>2019-07-01</td>\n",
              "      <td>0</td>\n",
              "      <td>3</td>\n",
              "      <td>0</td>\n",
              "      <td>0</td>\n",
              "    </tr>\n",
              "    <tr>\n",
              "      <th>256381</th>\n",
              "      <td>2019-07-01 04:02:30</td>\n",
              "      <td>lQ6yq2sB7mP0GwVzzxnf</td>\n",
              "      <td>10.1.1.1</td>\n",
              "      <td>2019-07-01 03:50:25</td>\n",
              "      <td>12.0</td>\n",
              "      <td>2019-07-01</td>\n",
              "      <td>0</td>\n",
              "      <td>4</td>\n",
              "      <td>0</td>\n",
              "      <td>1</td>\n",
              "    </tr>\n",
              "    <tr>\n",
              "      <th>255058</th>\n",
              "      <td>2019-07-01 04:57:39</td>\n",
              "      <td>oxHlq2sB7mP0GwVzTRqn</td>\n",
              "      <td>10.1.1.1</td>\n",
              "      <td>2019-07-01 04:02:30</td>\n",
              "      <td>55.0</td>\n",
              "      <td>2019-07-01</td>\n",
              "      <td>0</td>\n",
              "      <td>4</td>\n",
              "      <td>0</td>\n",
              "      <td>1</td>\n",
              "    </tr>\n",
              "    <tr>\n",
              "      <th>...</th>\n",
              "      <td>...</td>\n",
              "      <td>...</td>\n",
              "      <td>...</td>\n",
              "      <td>...</td>\n",
              "      <td>...</td>\n",
              "      <td>...</td>\n",
              "      <td>...</td>\n",
              "      <td>...</td>\n",
              "      <td>...</td>\n",
              "      <td>...</td>\n",
              "    </tr>\n",
              "    <tr>\n",
              "      <th>708493</th>\n",
              "      <td>2019-06-09 18:07:49</td>\n",
              "      <td>ZmtsPWsBoTGddM7v0Pzx</td>\n",
              "      <td>10.1.2.99</td>\n",
              "      <td>2019-06-09 17:45:05</td>\n",
              "      <td>22.0</td>\n",
              "      <td>2019-06-09</td>\n",
              "      <td>6</td>\n",
              "      <td>18</td>\n",
              "      <td>0</td>\n",
              "      <td>4</td>\n",
              "    </tr>\n",
              "    <tr>\n",
              "      <th>708317</th>\n",
              "      <td>2019-06-09 18:22:29</td>\n",
              "      <td>B0J6PWsB7mP0GwVzPrF1</td>\n",
              "      <td>10.1.2.99</td>\n",
              "      <td>2019-06-09 18:07:49</td>\n",
              "      <td>14.0</td>\n",
              "      <td>2019-06-09</td>\n",
              "      <td>6</td>\n",
              "      <td>18</td>\n",
              "      <td>0</td>\n",
              "      <td>4</td>\n",
              "    </tr>\n",
              "    <tr>\n",
              "      <th>708078</th>\n",
              "      <td>2019-06-09 18:42:25</td>\n",
              "      <td>oW2MPWsBoTGddM7vfjZR</td>\n",
              "      <td>10.1.2.99</td>\n",
              "      <td>2019-06-09 18:22:29</td>\n",
              "      <td>19.0</td>\n",
              "      <td>2019-06-09</td>\n",
              "      <td>6</td>\n",
              "      <td>18</td>\n",
              "      <td>0</td>\n",
              "      <td>4</td>\n",
              "    </tr>\n",
              "    <tr>\n",
              "      <th>705001</th>\n",
              "      <td>2019-06-09 22:58:49</td>\n",
              "      <td>LUx3PmsB7mP0GwVzPJcV</td>\n",
              "      <td>10.1.2.99</td>\n",
              "      <td>2019-06-09 18:42:25</td>\n",
              "      <td>256.0</td>\n",
              "      <td>2019-06-09</td>\n",
              "      <td>6</td>\n",
              "      <td>22</td>\n",
              "      <td>0</td>\n",
              "      <td>5</td>\n",
              "    </tr>\n",
              "    <tr>\n",
              "      <th>704625</th>\n",
              "      <td>2019-06-09 23:30:09</td>\n",
              "      <td>LHeTPmsBoTGddM7v63bR</td>\n",
              "      <td>10.1.2.99</td>\n",
              "      <td>2019-06-09 22:58:49</td>\n",
              "      <td>31.0</td>\n",
              "      <td>2019-06-09</td>\n",
              "      <td>6</td>\n",
              "      <td>23</td>\n",
              "      <td>0</td>\n",
              "      <td>5</td>\n",
              "    </tr>\n",
              "  </tbody>\n",
              "</table>\n",
              "<p>721547 rows × 10 columns</p>\n",
              "</div>\n",
              "    <div class=\"colab-df-buttons\">\n",
              "\n",
              "  <div class=\"colab-df-container\">\n",
              "    <button class=\"colab-df-convert\" onclick=\"convertToInteractive('df-903d819f-b053-4166-9e90-dae1753bfee1')\"\n",
              "            title=\"Convert this dataframe to an interactive table.\"\n",
              "            style=\"display:none;\">\n",
              "\n",
              "  <svg xmlns=\"http://www.w3.org/2000/svg\" height=\"24px\" viewBox=\"0 -960 960 960\">\n",
              "    <path d=\"M120-120v-720h720v720H120Zm60-500h600v-160H180v160Zm220 220h160v-160H400v160Zm0 220h160v-160H400v160ZM180-400h160v-160H180v160Zm440 0h160v-160H620v160ZM180-180h160v-160H180v160Zm440 0h160v-160H620v160Z\"/>\n",
              "  </svg>\n",
              "    </button>\n",
              "\n",
              "  <style>\n",
              "    .colab-df-container {\n",
              "      display:flex;\n",
              "      gap: 12px;\n",
              "    }\n",
              "\n",
              "    .colab-df-convert {\n",
              "      background-color: #E8F0FE;\n",
              "      border: none;\n",
              "      border-radius: 50%;\n",
              "      cursor: pointer;\n",
              "      display: none;\n",
              "      fill: #1967D2;\n",
              "      height: 32px;\n",
              "      padding: 0 0 0 0;\n",
              "      width: 32px;\n",
              "    }\n",
              "\n",
              "    .colab-df-convert:hover {\n",
              "      background-color: #E2EBFA;\n",
              "      box-shadow: 0px 1px 2px rgba(60, 64, 67, 0.3), 0px 1px 3px 1px rgba(60, 64, 67, 0.15);\n",
              "      fill: #174EA6;\n",
              "    }\n",
              "\n",
              "    .colab-df-buttons div {\n",
              "      margin-bottom: 4px;\n",
              "    }\n",
              "\n",
              "    [theme=dark] .colab-df-convert {\n",
              "      background-color: #3B4455;\n",
              "      fill: #D2E3FC;\n",
              "    }\n",
              "\n",
              "    [theme=dark] .colab-df-convert:hover {\n",
              "      background-color: #434B5C;\n",
              "      box-shadow: 0px 1px 3px 1px rgba(0, 0, 0, 0.15);\n",
              "      filter: drop-shadow(0px 1px 2px rgba(0, 0, 0, 0.3));\n",
              "      fill: #FFFFFF;\n",
              "    }\n",
              "  </style>\n",
              "\n",
              "    <script>\n",
              "      const buttonEl =\n",
              "        document.querySelector('#df-903d819f-b053-4166-9e90-dae1753bfee1 button.colab-df-convert');\n",
              "      buttonEl.style.display =\n",
              "        google.colab.kernel.accessAllowed ? 'block' : 'none';\n",
              "\n",
              "      async function convertToInteractive(key) {\n",
              "        const element = document.querySelector('#df-903d819f-b053-4166-9e90-dae1753bfee1');\n",
              "        const dataTable =\n",
              "          await google.colab.kernel.invokeFunction('convertToInteractive',\n",
              "                                                    [key], {});\n",
              "        if (!dataTable) return;\n",
              "\n",
              "        const docLinkHtml = 'Like what you see? Visit the ' +\n",
              "          '<a target=\"_blank\" href=https://colab.research.google.com/notebooks/data_table.ipynb>data table notebook</a>'\n",
              "          + ' to learn more about interactive tables.';\n",
              "        element.innerHTML = '';\n",
              "        dataTable['output_type'] = 'display_data';\n",
              "        await google.colab.output.renderOutput(dataTable, element);\n",
              "        const docLink = document.createElement('div');\n",
              "        docLink.innerHTML = docLinkHtml;\n",
              "        element.appendChild(docLink);\n",
              "      }\n",
              "    </script>\n",
              "  </div>\n",
              "\n",
              "\n",
              "    <div id=\"df-0ee7865e-1d08-4241-9561-d746893844ff\">\n",
              "      <button class=\"colab-df-quickchart\" onclick=\"quickchart('df-0ee7865e-1d08-4241-9561-d746893844ff')\"\n",
              "                title=\"Suggest charts\"\n",
              "                style=\"display:none;\">\n",
              "\n",
              "<svg xmlns=\"http://www.w3.org/2000/svg\" height=\"24px\"viewBox=\"0 0 24 24\"\n",
              "     width=\"24px\">\n",
              "    <g>\n",
              "        <path d=\"M19 3H5c-1.1 0-2 .9-2 2v14c0 1.1.9 2 2 2h14c1.1 0 2-.9 2-2V5c0-1.1-.9-2-2-2zM9 17H7v-7h2v7zm4 0h-2V7h2v10zm4 0h-2v-4h2v4z\"/>\n",
              "    </g>\n",
              "</svg>\n",
              "      </button>\n",
              "\n",
              "<style>\n",
              "  .colab-df-quickchart {\n",
              "      --bg-color: #E8F0FE;\n",
              "      --fill-color: #1967D2;\n",
              "      --hover-bg-color: #E2EBFA;\n",
              "      --hover-fill-color: #174EA6;\n",
              "      --disabled-fill-color: #AAA;\n",
              "      --disabled-bg-color: #DDD;\n",
              "  }\n",
              "\n",
              "  [theme=dark] .colab-df-quickchart {\n",
              "      --bg-color: #3B4455;\n",
              "      --fill-color: #D2E3FC;\n",
              "      --hover-bg-color: #434B5C;\n",
              "      --hover-fill-color: #FFFFFF;\n",
              "      --disabled-bg-color: #3B4455;\n",
              "      --disabled-fill-color: #666;\n",
              "  }\n",
              "\n",
              "  .colab-df-quickchart {\n",
              "    background-color: var(--bg-color);\n",
              "    border: none;\n",
              "    border-radius: 50%;\n",
              "    cursor: pointer;\n",
              "    display: none;\n",
              "    fill: var(--fill-color);\n",
              "    height: 32px;\n",
              "    padding: 0;\n",
              "    width: 32px;\n",
              "  }\n",
              "\n",
              "  .colab-df-quickchart:hover {\n",
              "    background-color: var(--hover-bg-color);\n",
              "    box-shadow: 0 1px 2px rgba(60, 64, 67, 0.3), 0 1px 3px 1px rgba(60, 64, 67, 0.15);\n",
              "    fill: var(--button-hover-fill-color);\n",
              "  }\n",
              "\n",
              "  .colab-df-quickchart-complete:disabled,\n",
              "  .colab-df-quickchart-complete:disabled:hover {\n",
              "    background-color: var(--disabled-bg-color);\n",
              "    fill: var(--disabled-fill-color);\n",
              "    box-shadow: none;\n",
              "  }\n",
              "\n",
              "  .colab-df-spinner {\n",
              "    border: 2px solid var(--fill-color);\n",
              "    border-color: transparent;\n",
              "    border-bottom-color: var(--fill-color);\n",
              "    animation:\n",
              "      spin 1s steps(1) infinite;\n",
              "  }\n",
              "\n",
              "  @keyframes spin {\n",
              "    0% {\n",
              "      border-color: transparent;\n",
              "      border-bottom-color: var(--fill-color);\n",
              "      border-left-color: var(--fill-color);\n",
              "    }\n",
              "    20% {\n",
              "      border-color: transparent;\n",
              "      border-left-color: var(--fill-color);\n",
              "      border-top-color: var(--fill-color);\n",
              "    }\n",
              "    30% {\n",
              "      border-color: transparent;\n",
              "      border-left-color: var(--fill-color);\n",
              "      border-top-color: var(--fill-color);\n",
              "      border-right-color: var(--fill-color);\n",
              "    }\n",
              "    40% {\n",
              "      border-color: transparent;\n",
              "      border-right-color: var(--fill-color);\n",
              "      border-top-color: var(--fill-color);\n",
              "    }\n",
              "    60% {\n",
              "      border-color: transparent;\n",
              "      border-right-color: var(--fill-color);\n",
              "    }\n",
              "    80% {\n",
              "      border-color: transparent;\n",
              "      border-right-color: var(--fill-color);\n",
              "      border-bottom-color: var(--fill-color);\n",
              "    }\n",
              "    90% {\n",
              "      border-color: transparent;\n",
              "      border-bottom-color: var(--fill-color);\n",
              "    }\n",
              "  }\n",
              "</style>\n",
              "\n",
              "      <script>\n",
              "        async function quickchart(key) {\n",
              "          const quickchartButtonEl =\n",
              "            document.querySelector('#' + key + ' button');\n",
              "          quickchartButtonEl.disabled = true;  // To prevent multiple clicks.\n",
              "          quickchartButtonEl.classList.add('colab-df-spinner');\n",
              "          try {\n",
              "            const charts = await google.colab.kernel.invokeFunction(\n",
              "                'suggestCharts', [key], {});\n",
              "          } catch (error) {\n",
              "            console.error('Error during call to suggestCharts:', error);\n",
              "          }\n",
              "          quickchartButtonEl.classList.remove('colab-df-spinner');\n",
              "          quickchartButtonEl.classList.add('colab-df-quickchart-complete');\n",
              "        }\n",
              "        (() => {\n",
              "          let quickchartButtonEl =\n",
              "            document.querySelector('#df-0ee7865e-1d08-4241-9561-d746893844ff button');\n",
              "          quickchartButtonEl.style.display =\n",
              "            google.colab.kernel.accessAllowed ? 'block' : 'none';\n",
              "        })();\n",
              "      </script>\n",
              "    </div>\n",
              "\n",
              "  <div id=\"id_4425571b-ba16-446a-9093-b44c902a9ca2\">\n",
              "    <style>\n",
              "      .colab-df-generate {\n",
              "        background-color: #E8F0FE;\n",
              "        border: none;\n",
              "        border-radius: 50%;\n",
              "        cursor: pointer;\n",
              "        display: none;\n",
              "        fill: #1967D2;\n",
              "        height: 32px;\n",
              "        padding: 0 0 0 0;\n",
              "        width: 32px;\n",
              "      }\n",
              "\n",
              "      .colab-df-generate:hover {\n",
              "        background-color: #E2EBFA;\n",
              "        box-shadow: 0px 1px 2px rgba(60, 64, 67, 0.3), 0px 1px 3px 1px rgba(60, 64, 67, 0.15);\n",
              "        fill: #174EA6;\n",
              "      }\n",
              "\n",
              "      [theme=dark] .colab-df-generate {\n",
              "        background-color: #3B4455;\n",
              "        fill: #D2E3FC;\n",
              "      }\n",
              "\n",
              "      [theme=dark] .colab-df-generate:hover {\n",
              "        background-color: #434B5C;\n",
              "        box-shadow: 0px 1px 3px 1px rgba(0, 0, 0, 0.15);\n",
              "        filter: drop-shadow(0px 1px 2px rgba(0, 0, 0, 0.3));\n",
              "        fill: #FFFFFF;\n",
              "      }\n",
              "    </style>\n",
              "    <button class=\"colab-df-generate\" onclick=\"generateWithVariable('df')\"\n",
              "            title=\"Generate code using this dataframe.\"\n",
              "            style=\"display:none;\">\n",
              "\n",
              "  <svg xmlns=\"http://www.w3.org/2000/svg\" height=\"24px\"viewBox=\"0 0 24 24\"\n",
              "       width=\"24px\">\n",
              "    <path d=\"M7,19H8.4L18.45,9,17,7.55,7,17.6ZM5,21V16.75L18.45,3.32a2,2,0,0,1,2.83,0l1.4,1.43a1.91,1.91,0,0,1,.58,1.4,1.91,1.91,0,0,1-.58,1.4L9.25,21ZM18.45,9,17,7.55Zm-12,3A5.31,5.31,0,0,0,4.9,8.1,5.31,5.31,0,0,0,1,6.5,5.31,5.31,0,0,0,4.9,4.9,5.31,5.31,0,0,0,6.5,1,5.31,5.31,0,0,0,8.1,4.9,5.31,5.31,0,0,0,12,6.5,5.46,5.46,0,0,0,6.5,12Z\"/>\n",
              "  </svg>\n",
              "    </button>\n",
              "    <script>\n",
              "      (() => {\n",
              "      const buttonEl =\n",
              "        document.querySelector('#id_4425571b-ba16-446a-9093-b44c902a9ca2 button.colab-df-generate');\n",
              "      buttonEl.style.display =\n",
              "        google.colab.kernel.accessAllowed ? 'block' : 'none';\n",
              "\n",
              "      buttonEl.onclick = () => {\n",
              "        google.colab.notebook.generateWithVariable('df');\n",
              "      }\n",
              "      })();\n",
              "    </script>\n",
              "  </div>\n",
              "\n",
              "    </div>\n",
              "  </div>\n"
            ],
            "application/vnd.google.colaboratory.intrinsic+json": {
              "type": "dataframe",
              "variable_name": "df"
            }
          },
          "metadata": {},
          "execution_count": 44
        }
      ]
    },
    {
      "cell_type": "code",
      "metadata": {
        "id": "swVEhb35lV1a"
      },
      "source": [
        "ip_addr ='ip_address'"
      ],
      "execution_count": 45,
      "outputs": []
    },
    {
      "cell_type": "code",
      "metadata": {
        "id": "jqLdX-QLlV1b"
      },
      "source": [
        "ip_counts = df.groupby(ip_addr)['@timestamp'].count().reset_index()"
      ],
      "execution_count": 46,
      "outputs": []
    },
    {
      "cell_type": "markdown",
      "metadata": {
        "id": "s3tbXtHelV1b"
      },
      "source": [
        "Counting how many times the user in logging into the computer wrt to ip address"
      ]
    },
    {
      "cell_type": "code",
      "metadata": {
        "id": "fyQvQ6h1lV1c",
        "outputId": "771be13a-9452-45d1-b1e4-00a2dcfa35fb",
        "colab": {
          "base_uri": "https://localhost:8080/",
          "height": 423
        }
      },
      "source": [
        "ip_counts"
      ],
      "execution_count": 47,
      "outputs": [
        {
          "output_type": "execute_result",
          "data": {
            "text/plain": [
              "     ip_address  @timestamp\n",
              "0      10.1.1.1        1446\n",
              "1    10.1.1.100        2860\n",
              "2    10.1.1.101        1465\n",
              "3    10.1.1.106        1408\n",
              "4    10.1.1.109        1459\n",
              "..          ...         ...\n",
              "381   10.1.2.86        4307\n",
              "382   10.1.2.89        2826\n",
              "383   10.1.2.90        2904\n",
              "384   10.1.2.95        2868\n",
              "385   10.1.2.99        1423\n",
              "\n",
              "[386 rows x 2 columns]"
            ],
            "text/html": [
              "\n",
              "  <div id=\"df-1792d604-6619-41dd-a4c0-31c3bbd9b3d9\" class=\"colab-df-container\">\n",
              "    <div>\n",
              "<style scoped>\n",
              "    .dataframe tbody tr th:only-of-type {\n",
              "        vertical-align: middle;\n",
              "    }\n",
              "\n",
              "    .dataframe tbody tr th {\n",
              "        vertical-align: top;\n",
              "    }\n",
              "\n",
              "    .dataframe thead th {\n",
              "        text-align: right;\n",
              "    }\n",
              "</style>\n",
              "<table border=\"1\" class=\"dataframe\">\n",
              "  <thead>\n",
              "    <tr style=\"text-align: right;\">\n",
              "      <th></th>\n",
              "      <th>ip_address</th>\n",
              "      <th>@timestamp</th>\n",
              "    </tr>\n",
              "  </thead>\n",
              "  <tbody>\n",
              "    <tr>\n",
              "      <th>0</th>\n",
              "      <td>10.1.1.1</td>\n",
              "      <td>1446</td>\n",
              "    </tr>\n",
              "    <tr>\n",
              "      <th>1</th>\n",
              "      <td>10.1.1.100</td>\n",
              "      <td>2860</td>\n",
              "    </tr>\n",
              "    <tr>\n",
              "      <th>2</th>\n",
              "      <td>10.1.1.101</td>\n",
              "      <td>1465</td>\n",
              "    </tr>\n",
              "    <tr>\n",
              "      <th>3</th>\n",
              "      <td>10.1.1.106</td>\n",
              "      <td>1408</td>\n",
              "    </tr>\n",
              "    <tr>\n",
              "      <th>4</th>\n",
              "      <td>10.1.1.109</td>\n",
              "      <td>1459</td>\n",
              "    </tr>\n",
              "    <tr>\n",
              "      <th>...</th>\n",
              "      <td>...</td>\n",
              "      <td>...</td>\n",
              "    </tr>\n",
              "    <tr>\n",
              "      <th>381</th>\n",
              "      <td>10.1.2.86</td>\n",
              "      <td>4307</td>\n",
              "    </tr>\n",
              "    <tr>\n",
              "      <th>382</th>\n",
              "      <td>10.1.2.89</td>\n",
              "      <td>2826</td>\n",
              "    </tr>\n",
              "    <tr>\n",
              "      <th>383</th>\n",
              "      <td>10.1.2.90</td>\n",
              "      <td>2904</td>\n",
              "    </tr>\n",
              "    <tr>\n",
              "      <th>384</th>\n",
              "      <td>10.1.2.95</td>\n",
              "      <td>2868</td>\n",
              "    </tr>\n",
              "    <tr>\n",
              "      <th>385</th>\n",
              "      <td>10.1.2.99</td>\n",
              "      <td>1423</td>\n",
              "    </tr>\n",
              "  </tbody>\n",
              "</table>\n",
              "<p>386 rows × 2 columns</p>\n",
              "</div>\n",
              "    <div class=\"colab-df-buttons\">\n",
              "\n",
              "  <div class=\"colab-df-container\">\n",
              "    <button class=\"colab-df-convert\" onclick=\"convertToInteractive('df-1792d604-6619-41dd-a4c0-31c3bbd9b3d9')\"\n",
              "            title=\"Convert this dataframe to an interactive table.\"\n",
              "            style=\"display:none;\">\n",
              "\n",
              "  <svg xmlns=\"http://www.w3.org/2000/svg\" height=\"24px\" viewBox=\"0 -960 960 960\">\n",
              "    <path d=\"M120-120v-720h720v720H120Zm60-500h600v-160H180v160Zm220 220h160v-160H400v160Zm0 220h160v-160H400v160ZM180-400h160v-160H180v160Zm440 0h160v-160H620v160ZM180-180h160v-160H180v160Zm440 0h160v-160H620v160Z\"/>\n",
              "  </svg>\n",
              "    </button>\n",
              "\n",
              "  <style>\n",
              "    .colab-df-container {\n",
              "      display:flex;\n",
              "      gap: 12px;\n",
              "    }\n",
              "\n",
              "    .colab-df-convert {\n",
              "      background-color: #E8F0FE;\n",
              "      border: none;\n",
              "      border-radius: 50%;\n",
              "      cursor: pointer;\n",
              "      display: none;\n",
              "      fill: #1967D2;\n",
              "      height: 32px;\n",
              "      padding: 0 0 0 0;\n",
              "      width: 32px;\n",
              "    }\n",
              "\n",
              "    .colab-df-convert:hover {\n",
              "      background-color: #E2EBFA;\n",
              "      box-shadow: 0px 1px 2px rgba(60, 64, 67, 0.3), 0px 1px 3px 1px rgba(60, 64, 67, 0.15);\n",
              "      fill: #174EA6;\n",
              "    }\n",
              "\n",
              "    .colab-df-buttons div {\n",
              "      margin-bottom: 4px;\n",
              "    }\n",
              "\n",
              "    [theme=dark] .colab-df-convert {\n",
              "      background-color: #3B4455;\n",
              "      fill: #D2E3FC;\n",
              "    }\n",
              "\n",
              "    [theme=dark] .colab-df-convert:hover {\n",
              "      background-color: #434B5C;\n",
              "      box-shadow: 0px 1px 3px 1px rgba(0, 0, 0, 0.15);\n",
              "      filter: drop-shadow(0px 1px 2px rgba(0, 0, 0, 0.3));\n",
              "      fill: #FFFFFF;\n",
              "    }\n",
              "  </style>\n",
              "\n",
              "    <script>\n",
              "      const buttonEl =\n",
              "        document.querySelector('#df-1792d604-6619-41dd-a4c0-31c3bbd9b3d9 button.colab-df-convert');\n",
              "      buttonEl.style.display =\n",
              "        google.colab.kernel.accessAllowed ? 'block' : 'none';\n",
              "\n",
              "      async function convertToInteractive(key) {\n",
              "        const element = document.querySelector('#df-1792d604-6619-41dd-a4c0-31c3bbd9b3d9');\n",
              "        const dataTable =\n",
              "          await google.colab.kernel.invokeFunction('convertToInteractive',\n",
              "                                                    [key], {});\n",
              "        if (!dataTable) return;\n",
              "\n",
              "        const docLinkHtml = 'Like what you see? Visit the ' +\n",
              "          '<a target=\"_blank\" href=https://colab.research.google.com/notebooks/data_table.ipynb>data table notebook</a>'\n",
              "          + ' to learn more about interactive tables.';\n",
              "        element.innerHTML = '';\n",
              "        dataTable['output_type'] = 'display_data';\n",
              "        await google.colab.output.renderOutput(dataTable, element);\n",
              "        const docLink = document.createElement('div');\n",
              "        docLink.innerHTML = docLinkHtml;\n",
              "        element.appendChild(docLink);\n",
              "      }\n",
              "    </script>\n",
              "  </div>\n",
              "\n",
              "\n",
              "    <div id=\"df-52383e0e-8359-414b-a091-ba88be429225\">\n",
              "      <button class=\"colab-df-quickchart\" onclick=\"quickchart('df-52383e0e-8359-414b-a091-ba88be429225')\"\n",
              "                title=\"Suggest charts\"\n",
              "                style=\"display:none;\">\n",
              "\n",
              "<svg xmlns=\"http://www.w3.org/2000/svg\" height=\"24px\"viewBox=\"0 0 24 24\"\n",
              "     width=\"24px\">\n",
              "    <g>\n",
              "        <path d=\"M19 3H5c-1.1 0-2 .9-2 2v14c0 1.1.9 2 2 2h14c1.1 0 2-.9 2-2V5c0-1.1-.9-2-2-2zM9 17H7v-7h2v7zm4 0h-2V7h2v10zm4 0h-2v-4h2v4z\"/>\n",
              "    </g>\n",
              "</svg>\n",
              "      </button>\n",
              "\n",
              "<style>\n",
              "  .colab-df-quickchart {\n",
              "      --bg-color: #E8F0FE;\n",
              "      --fill-color: #1967D2;\n",
              "      --hover-bg-color: #E2EBFA;\n",
              "      --hover-fill-color: #174EA6;\n",
              "      --disabled-fill-color: #AAA;\n",
              "      --disabled-bg-color: #DDD;\n",
              "  }\n",
              "\n",
              "  [theme=dark] .colab-df-quickchart {\n",
              "      --bg-color: #3B4455;\n",
              "      --fill-color: #D2E3FC;\n",
              "      --hover-bg-color: #434B5C;\n",
              "      --hover-fill-color: #FFFFFF;\n",
              "      --disabled-bg-color: #3B4455;\n",
              "      --disabled-fill-color: #666;\n",
              "  }\n",
              "\n",
              "  .colab-df-quickchart {\n",
              "    background-color: var(--bg-color);\n",
              "    border: none;\n",
              "    border-radius: 50%;\n",
              "    cursor: pointer;\n",
              "    display: none;\n",
              "    fill: var(--fill-color);\n",
              "    height: 32px;\n",
              "    padding: 0;\n",
              "    width: 32px;\n",
              "  }\n",
              "\n",
              "  .colab-df-quickchart:hover {\n",
              "    background-color: var(--hover-bg-color);\n",
              "    box-shadow: 0 1px 2px rgba(60, 64, 67, 0.3), 0 1px 3px 1px rgba(60, 64, 67, 0.15);\n",
              "    fill: var(--button-hover-fill-color);\n",
              "  }\n",
              "\n",
              "  .colab-df-quickchart-complete:disabled,\n",
              "  .colab-df-quickchart-complete:disabled:hover {\n",
              "    background-color: var(--disabled-bg-color);\n",
              "    fill: var(--disabled-fill-color);\n",
              "    box-shadow: none;\n",
              "  }\n",
              "\n",
              "  .colab-df-spinner {\n",
              "    border: 2px solid var(--fill-color);\n",
              "    border-color: transparent;\n",
              "    border-bottom-color: var(--fill-color);\n",
              "    animation:\n",
              "      spin 1s steps(1) infinite;\n",
              "  }\n",
              "\n",
              "  @keyframes spin {\n",
              "    0% {\n",
              "      border-color: transparent;\n",
              "      border-bottom-color: var(--fill-color);\n",
              "      border-left-color: var(--fill-color);\n",
              "    }\n",
              "    20% {\n",
              "      border-color: transparent;\n",
              "      border-left-color: var(--fill-color);\n",
              "      border-top-color: var(--fill-color);\n",
              "    }\n",
              "    30% {\n",
              "      border-color: transparent;\n",
              "      border-left-color: var(--fill-color);\n",
              "      border-top-color: var(--fill-color);\n",
              "      border-right-color: var(--fill-color);\n",
              "    }\n",
              "    40% {\n",
              "      border-color: transparent;\n",
              "      border-right-color: var(--fill-color);\n",
              "      border-top-color: var(--fill-color);\n",
              "    }\n",
              "    60% {\n",
              "      border-color: transparent;\n",
              "      border-right-color: var(--fill-color);\n",
              "    }\n",
              "    80% {\n",
              "      border-color: transparent;\n",
              "      border-right-color: var(--fill-color);\n",
              "      border-bottom-color: var(--fill-color);\n",
              "    }\n",
              "    90% {\n",
              "      border-color: transparent;\n",
              "      border-bottom-color: var(--fill-color);\n",
              "    }\n",
              "  }\n",
              "</style>\n",
              "\n",
              "      <script>\n",
              "        async function quickchart(key) {\n",
              "          const quickchartButtonEl =\n",
              "            document.querySelector('#' + key + ' button');\n",
              "          quickchartButtonEl.disabled = true;  // To prevent multiple clicks.\n",
              "          quickchartButtonEl.classList.add('colab-df-spinner');\n",
              "          try {\n",
              "            const charts = await google.colab.kernel.invokeFunction(\n",
              "                'suggestCharts', [key], {});\n",
              "          } catch (error) {\n",
              "            console.error('Error during call to suggestCharts:', error);\n",
              "          }\n",
              "          quickchartButtonEl.classList.remove('colab-df-spinner');\n",
              "          quickchartButtonEl.classList.add('colab-df-quickchart-complete');\n",
              "        }\n",
              "        (() => {\n",
              "          let quickchartButtonEl =\n",
              "            document.querySelector('#df-52383e0e-8359-414b-a091-ba88be429225 button');\n",
              "          quickchartButtonEl.style.display =\n",
              "            google.colab.kernel.accessAllowed ? 'block' : 'none';\n",
              "        })();\n",
              "      </script>\n",
              "    </div>\n",
              "\n",
              "  <div id=\"id_55ec35cb-1a2f-43c8-99b2-d15db99d36dd\">\n",
              "    <style>\n",
              "      .colab-df-generate {\n",
              "        background-color: #E8F0FE;\n",
              "        border: none;\n",
              "        border-radius: 50%;\n",
              "        cursor: pointer;\n",
              "        display: none;\n",
              "        fill: #1967D2;\n",
              "        height: 32px;\n",
              "        padding: 0 0 0 0;\n",
              "        width: 32px;\n",
              "      }\n",
              "\n",
              "      .colab-df-generate:hover {\n",
              "        background-color: #E2EBFA;\n",
              "        box-shadow: 0px 1px 2px rgba(60, 64, 67, 0.3), 0px 1px 3px 1px rgba(60, 64, 67, 0.15);\n",
              "        fill: #174EA6;\n",
              "      }\n",
              "\n",
              "      [theme=dark] .colab-df-generate {\n",
              "        background-color: #3B4455;\n",
              "        fill: #D2E3FC;\n",
              "      }\n",
              "\n",
              "      [theme=dark] .colab-df-generate:hover {\n",
              "        background-color: #434B5C;\n",
              "        box-shadow: 0px 1px 3px 1px rgba(0, 0, 0, 0.15);\n",
              "        filter: drop-shadow(0px 1px 2px rgba(0, 0, 0, 0.3));\n",
              "        fill: #FFFFFF;\n",
              "      }\n",
              "    </style>\n",
              "    <button class=\"colab-df-generate\" onclick=\"generateWithVariable('ip_counts')\"\n",
              "            title=\"Generate code using this dataframe.\"\n",
              "            style=\"display:none;\">\n",
              "\n",
              "  <svg xmlns=\"http://www.w3.org/2000/svg\" height=\"24px\"viewBox=\"0 0 24 24\"\n",
              "       width=\"24px\">\n",
              "    <path d=\"M7,19H8.4L18.45,9,17,7.55,7,17.6ZM5,21V16.75L18.45,3.32a2,2,0,0,1,2.83,0l1.4,1.43a1.91,1.91,0,0,1,.58,1.4,1.91,1.91,0,0,1-.58,1.4L9.25,21ZM18.45,9,17,7.55Zm-12,3A5.31,5.31,0,0,0,4.9,8.1,5.31,5.31,0,0,0,1,6.5,5.31,5.31,0,0,0,4.9,4.9,5.31,5.31,0,0,0,6.5,1,5.31,5.31,0,0,0,8.1,4.9,5.31,5.31,0,0,0,12,6.5,5.46,5.46,0,0,0,6.5,12Z\"/>\n",
              "  </svg>\n",
              "    </button>\n",
              "    <script>\n",
              "      (() => {\n",
              "      const buttonEl =\n",
              "        document.querySelector('#id_55ec35cb-1a2f-43c8-99b2-d15db99d36dd button.colab-df-generate');\n",
              "      buttonEl.style.display =\n",
              "        google.colab.kernel.accessAllowed ? 'block' : 'none';\n",
              "\n",
              "      buttonEl.onclick = () => {\n",
              "        google.colab.notebook.generateWithVariable('ip_counts');\n",
              "      }\n",
              "      })();\n",
              "    </script>\n",
              "  </div>\n",
              "\n",
              "    </div>\n",
              "  </div>\n"
            ],
            "application/vnd.google.colaboratory.intrinsic+json": {
              "type": "dataframe",
              "variable_name": "ip_counts",
              "summary": "{\n  \"name\": \"ip_counts\",\n  \"rows\": 386,\n  \"fields\": [\n    {\n      \"column\": \"ip_address\",\n      \"properties\": {\n        \"dtype\": \"string\",\n        \"num_unique_values\": 386,\n        \"samples\": [\n          \"10.1.2.445\",\n          \"10.1.2.382\",\n          \"10.1.1.316\"\n        ],\n        \"semantic_type\": \"\",\n        \"description\": \"\"\n      }\n    },\n    {\n      \"column\": \"@timestamp\",\n      \"properties\": {\n        \"dtype\": \"number\",\n        \"std\": 734,\n        \"min\": 1330,\n        \"max\": 4372,\n        \"num_unique_values\": 223,\n        \"samples\": [\n          1444,\n          2903,\n          1450\n        ],\n        \"semantic_type\": \"\",\n        \"description\": \"\"\n      }\n    }\n  ]\n}"
            }
          },
          "metadata": {},
          "execution_count": 47
        }
      ]
    },
    {
      "cell_type": "code",
      "metadata": {
        "id": "PdCpBiDtlV1d"
      },
      "source": [
        "ip_counts = ip_counts.rename(columns={'@timestamp':'total_count'})"
      ],
      "execution_count": null,
      "outputs": []
    },
    {
      "cell_type": "code",
      "metadata": {
        "id": "7BWAZSSIlV1e"
      },
      "source": [
        "daily_counts = df.groupby([ip_addr,'date'])['@timestamp'].count().reset_index()"
      ],
      "execution_count": null,
      "outputs": []
    },
    {
      "cell_type": "code",
      "metadata": {
        "id": "P6H7i3RVlV1e"
      },
      "source": [
        "daily_counts"
      ],
      "execution_count": null,
      "outputs": []
    },
    {
      "cell_type": "code",
      "metadata": {
        "id": "be07jMyolV1f"
      },
      "source": [
        "daily_counts = daily_counts.rename(columns={'@timestamp':'daily_counts'})"
      ],
      "execution_count": null,
      "outputs": []
    },
    {
      "cell_type": "code",
      "metadata": {
        "id": "Y2we2ftflV1g"
      },
      "source": [
        "daily_counts_avg = daily_counts.groupby(ip_addr).daily_counts.median().reset_index()"
      ],
      "execution_count": null,
      "outputs": []
    },
    {
      "cell_type": "markdown",
      "metadata": {
        "id": "qll2Zzm5lV1g"
      },
      "source": [
        "Calculating the median of the counts for all the date having the same ip address"
      ]
    },
    {
      "cell_type": "code",
      "metadata": {
        "id": "4Rjq_thtlV1h"
      },
      "source": [
        "daily_counts_avg.head(5)"
      ],
      "execution_count": null,
      "outputs": []
    },
    {
      "cell_type": "code",
      "metadata": {
        "id": "kKqTKQB8lV1i"
      },
      "source": [
        "weekend_counts = df.groupby([ip_addr, 'is_weekend'])['@timestamp'].count().reset_index()"
      ],
      "execution_count": null,
      "outputs": []
    },
    {
      "cell_type": "code",
      "metadata": {
        "id": "cH-hVpVZlV1i"
      },
      "source": [
        "weekend_counts"
      ],
      "execution_count": null,
      "outputs": []
    },
    {
      "cell_type": "code",
      "metadata": {
        "id": "5jRi0PmulV1k"
      },
      "source": [
        "weekend_counts = weekend_counts.rename(columns={'@timestamp':'weekend_counts'})"
      ],
      "execution_count": null,
      "outputs": []
    },
    {
      "cell_type": "code",
      "metadata": {
        "id": "9d4pddaRlV1k"
      },
      "source": [
        "weekend_counts.head()"
      ],
      "execution_count": null,
      "outputs": []
    },
    {
      "cell_type": "markdown",
      "metadata": {
        "id": "IFojUshflV1l"
      },
      "source": [
        "calucating no.of logins occured in the weekends and weekdays"
      ]
    },
    {
      "cell_type": "code",
      "metadata": {
        "id": "ExCyeELDlV1m"
      },
      "source": [
        "weekend_counts_avg = weekend_counts.pivot_table(index=ip_addr, columns='is_weekend').reset_index([0])"
      ],
      "execution_count": null,
      "outputs": []
    },
    {
      "cell_type": "code",
      "metadata": {
        "id": "-JMjAHUflV1m"
      },
      "source": [
        "weekend_counts_avg.head()"
      ],
      "execution_count": null,
      "outputs": []
    },
    {
      "cell_type": "code",
      "metadata": {
        "id": "bNVnAoPqlV1n"
      },
      "source": [
        "weekend_counts_avg.columns = weekend_counts_avg.columns.droplevel()"
      ],
      "execution_count": null,
      "outputs": []
    },
    {
      "cell_type": "code",
      "metadata": {
        "id": "-qhbs2xAlV1o"
      },
      "source": [
        "weekend_counts_avg"
      ],
      "execution_count": null,
      "outputs": []
    },
    {
      "cell_type": "code",
      "metadata": {
        "id": "0D_lS_v9lV1p"
      },
      "source": [
        "weekend_counts_avg.columns = [ip_addr, 'week_day', 'weekend']"
      ],
      "execution_count": null,
      "outputs": []
    },
    {
      "cell_type": "code",
      "metadata": {
        "id": "U2NcBbWXlV1q"
      },
      "source": [
        "weekend_counts_avg['is_weekend_ratio'] = weekend_counts_avg['week_day']/ weekend_counts_avg['weekend']"
      ],
      "execution_count": null,
      "outputs": []
    },
    {
      "cell_type": "markdown",
      "metadata": {
        "id": "K31SAVAylV1q"
      },
      "source": [
        "finding the ratio between weekday and weekend"
      ]
    },
    {
      "cell_type": "code",
      "metadata": {
        "id": "KXiLDvmXlV1r"
      },
      "source": [
        "weekend_counts_avg.head()"
      ],
      "execution_count": null,
      "outputs": []
    },
    {
      "cell_type": "code",
      "metadata": {
        "id": "WDTji6FPlV1s"
      },
      "source": [
        "lean_weekend_counts_avg = weekend_counts_avg[[ip_addr, 'is_weekend_ratio']]"
      ],
      "execution_count": null,
      "outputs": []
    },
    {
      "cell_type": "code",
      "metadata": {
        "id": "Zxc0DulxlV1s"
      },
      "source": [
        "lean_weekend_counts_avg.head()"
      ],
      "execution_count": null,
      "outputs": []
    },
    {
      "cell_type": "code",
      "metadata": {
        "id": "0jBWHANKlV1t"
      },
      "source": [
        "avg_time_data = df.groupby(ip_addr).agg({'time_diff':['mean','max']}).reset_index()"
      ],
      "execution_count": null,
      "outputs": []
    },
    {
      "cell_type": "code",
      "metadata": {
        "id": "13HrrhV4lV1u"
      },
      "source": [
        "avg_time_data.head()"
      ],
      "execution_count": null,
      "outputs": []
    },
    {
      "cell_type": "code",
      "metadata": {
        "id": "QnFf-rc_lV1v"
      },
      "source": [
        "avg_time_data.columns = avg_time_data.columns.droplevel()"
      ],
      "execution_count": null,
      "outputs": []
    },
    {
      "cell_type": "code",
      "metadata": {
        "id": "9W9QG3aNlV1v"
      },
      "source": [
        "avg_time_data.columns = [ip_addr, 'td_mean', 'td_max']"
      ],
      "execution_count": null,
      "outputs": []
    },
    {
      "cell_type": "markdown",
      "metadata": {
        "id": "qXfXGb2HlV1w"
      },
      "source": [
        "calulating the mean and max for time_diff column and labelling as td_mean and td_max"
      ]
    },
    {
      "cell_type": "code",
      "metadata": {
        "id": "rhnuY3YulV1w"
      },
      "source": [
        "avg_time_data.head()"
      ],
      "execution_count": null,
      "outputs": []
    },
    {
      "cell_type": "markdown",
      "metadata": {
        "id": "l-PoX77hlV1x"
      },
      "source": [
        "## Total Features Set"
      ]
    },
    {
      "cell_type": "code",
      "metadata": {
        "id": "W9zQsZCJlV1x"
      },
      "source": [
        "mer_1 = ip_counts.merge(daily_counts_avg, on=ip_addr, how='left')"
      ],
      "execution_count": null,
      "outputs": []
    },
    {
      "cell_type": "code",
      "metadata": {
        "id": "Fe8lVbLZlV1y"
      },
      "source": [
        "mer_2 = mer_1.merge(lean_weekend_counts_avg, on=ip_addr, how='left')"
      ],
      "execution_count": null,
      "outputs": []
    },
    {
      "cell_type": "code",
      "metadata": {
        "id": "leO3mroKlV1y"
      },
      "source": [
        "final_dataset = mer_2.merge(avg_time_data, on=ip_addr, how='left')"
      ],
      "execution_count": null,
      "outputs": []
    },
    {
      "cell_type": "code",
      "metadata": {
        "id": "gHf1LaRclV1z"
      },
      "source": [
        "final_dataset.head()"
      ],
      "execution_count": null,
      "outputs": []
    },
    {
      "cell_type": "code",
      "metadata": {
        "id": "cut59D3TlV10"
      },
      "source": [
        "ip_map = final_dataset[ip_addr].to_dict()"
      ],
      "execution_count": null,
      "outputs": []
    },
    {
      "cell_type": "code",
      "metadata": {
        "id": "hAzRfJWOlV10"
      },
      "source": [
        "RANDOM_STATE = 30"
      ],
      "execution_count": null,
      "outputs": []
    },
    {
      "cell_type": "markdown",
      "metadata": {
        "id": "ZLrp0QmjlV11"
      },
      "source": [
        "# KMeans"
      ]
    },
    {
      "cell_type": "code",
      "metadata": {
        "id": "wctDrnz3lV11"
      },
      "source": [
        "from sklearn.cluster import KMeans"
      ],
      "execution_count": null,
      "outputs": []
    },
    {
      "cell_type": "code",
      "metadata": {
        "id": "xadjGs39lV12"
      },
      "source": [
        "final_dataset.columns"
      ],
      "execution_count": null,
      "outputs": []
    },
    {
      "cell_type": "markdown",
      "metadata": {
        "id": "o2-PBgD3lV12"
      },
      "source": [
        "Displaying the columns present in the final_dataset"
      ]
    },
    {
      "cell_type": "code",
      "metadata": {
        "id": "GdSzfJf8lV13"
      },
      "source": [
        "requi_feature_cols = ['total_count', 'daily_counts', 'is_weekend_ratio', 'td_mean', 'td_max']"
      ],
      "execution_count": null,
      "outputs": []
    },
    {
      "cell_type": "code",
      "metadata": {
        "id": "R9W_O0JSlV13"
      },
      "source": [
        "new_data = final_dataset[requi_feature_cols]"
      ],
      "execution_count": null,
      "outputs": []
    },
    {
      "cell_type": "code",
      "metadata": {
        "id": "GqZULInBlV14"
      },
      "source": [
        "min_max_scaler = preprocessing.MinMaxScaler()"
      ],
      "execution_count": null,
      "outputs": []
    },
    {
      "cell_type": "code",
      "metadata": {
        "id": "J9IiA3xklV14"
      },
      "source": [
        "data_scaled = min_max_scaler.fit_transform(new_data)\n",
        "new_data = pd.DataFrame(data_scaled,columns=requi_feature_cols)"
      ],
      "execution_count": null,
      "outputs": []
    },
    {
      "cell_type": "code",
      "metadata": {
        "id": "tzA_4e1elV15"
      },
      "source": [
        "import seaborn as sns\n",
        "from mpl_toolkits.mplot3d import Axes3D"
      ],
      "execution_count": null,
      "outputs": []
    },
    {
      "cell_type": "code",
      "metadata": {
        "id": "MSFJuZFRlV15"
      },
      "source": [
        "sns.pairplot(final_dataset[requi_feature_cols])"
      ],
      "execution_count": null,
      "outputs": []
    },
    {
      "cell_type": "code",
      "metadata": {
        "id": "meX9uvUMlV16"
      },
      "source": [
        "sns.pairplot(new_data)"
      ],
      "execution_count": null,
      "outputs": []
    },
    {
      "cell_type": "code",
      "metadata": {
        "id": "_Id6T4i2lV16"
      },
      "source": [
        "cluster_num = range(1,15)"
      ],
      "execution_count": null,
      "outputs": []
    },
    {
      "cell_type": "code",
      "metadata": {
        "id": "LFoa4DnClV17"
      },
      "source": [
        "kmeans = [KMeans(n_clusters=i, random_state=RANDOM_STATE).fit(new_data) for i in cluster_num]"
      ],
      "execution_count": null,
      "outputs": []
    },
    {
      "cell_type": "code",
      "metadata": {
        "id": "2ZHBUKGflV17"
      },
      "source": [
        "kmeans"
      ],
      "execution_count": null,
      "outputs": []
    },
    {
      "cell_type": "code",
      "metadata": {
        "id": "V2HbnArllV18"
      },
      "source": [
        "scores = [kmeans[i].score(new_data) for i in range(len(kmeans))]"
      ],
      "execution_count": null,
      "outputs": []
    },
    {
      "cell_type": "code",
      "metadata": {
        "id": "D3CFaRMYlV19"
      },
      "source": [
        "scores"
      ],
      "execution_count": null,
      "outputs": []
    },
    {
      "cell_type": "code",
      "metadata": {
        "id": "eJKT9T2klV19"
      },
      "source": [
        "fig, sd = plt.subplots()\n",
        "sd.plot(cluster_num,scores)\n",
        "plt.show()"
      ],
      "execution_count": null,
      "outputs": []
    },
    {
      "cell_type": "markdown",
      "metadata": {
        "id": "sXYa2GQBlV1-"
      },
      "source": [
        "Displays the graph between no of clusters taken (i.e., 15) and scores calculate using kmeans"
      ]
    },
    {
      "cell_type": "code",
      "metadata": {
        "id": "mzg-IaNklV1-"
      },
      "source": [
        "kmeans_cluster_model=kmeans[5]"
      ],
      "execution_count": null,
      "outputs": []
    },
    {
      "cell_type": "code",
      "metadata": {
        "id": "msbbrp9BlV1_"
      },
      "source": [
        "kmeans_cluster_model"
      ],
      "execution_count": null,
      "outputs": []
    },
    {
      "cell_type": "code",
      "metadata": {
        "id": "gd5_GSyylV1_"
      },
      "source": [
        "final_dataset['cluster'] = kmeans_cluster_model.predict(new_data)\n",
        "final_dataset['cluster'].value_counts()"
      ],
      "execution_count": null,
      "outputs": []
    },
    {
      "cell_type": "markdown",
      "metadata": {
        "id": "2S-m8dGdlV2A"
      },
      "source": [
        "# Clustering model with TSNE"
      ]
    },
    {
      "cell_type": "markdown",
      "metadata": {
        "id": "RMb85k4FlV2B"
      },
      "source": [
        "t-Distributed Stochastic Neighbor Embedding (t-SNE)"
      ]
    },
    {
      "cell_type": "code",
      "metadata": {
        "id": "QmHygBlmlV2B"
      },
      "source": [
        "from sklearn.manifold import TSNE"
      ],
      "execution_count": null,
      "outputs": []
    },
    {
      "cell_type": "code",
      "metadata": {
        "id": "6ENaf400lV2B"
      },
      "source": [
        "tsne = TSNE(n_components=2, verbose=1, perplexity=40, n_iter=300, random_state=RANDOM_STATE)"
      ],
      "execution_count": null,
      "outputs": []
    },
    {
      "cell_type": "code",
      "metadata": {
        "id": "_b95wdNglV2C"
      },
      "source": [
        "tsne_result = tsne.fit_transform(new_data)"
      ],
      "execution_count": null,
      "outputs": []
    },
    {
      "cell_type": "code",
      "metadata": {
        "id": "7ucgbrU0lV2D"
      },
      "source": [
        "tsne_result"
      ],
      "execution_count": null,
      "outputs": []
    },
    {
      "cell_type": "code",
      "metadata": {
        "id": "_YD39FHklV2D"
      },
      "source": [
        "final_dataset['tsne-2d-one'] = tsne_result[:,0]\n",
        "final_dataset['tsne-2d-two'] = tsne_result[:,1]"
      ],
      "execution_count": null,
      "outputs": []
    },
    {
      "cell_type": "code",
      "metadata": {
        "id": "21UB5aPslV2E"
      },
      "source": [
        "tsne_cluster = final_dataset.groupby('cluster').agg({'tsne-2d-one':'mean','tsne-2d-two':'mean'}).reset_index()"
      ],
      "execution_count": null,
      "outputs": []
    },
    {
      "cell_type": "code",
      "metadata": {
        "id": "y5mcLPRmlV2E"
      },
      "source": [
        "plt.figure(figsize=(16,10))\n",
        "\n",
        "sns.scatterplot(\n",
        "    x=\"tsne-2d-one\", y=\"tsne-2d-two\",\n",
        "    hue=\"cluster\",\n",
        "    palette=sns.color_palette(\"hls\", 6),\n",
        "    data=final_dataset,\n",
        "    legend=\"full\",\n",
        "    alpha=1\n",
        ")\n",
        "\n",
        "plt.scatter(x=\"tsne-2d-one\", y=\"tsne-2d-two\", data=tsne_cluster, s=100, c='b')\n",
        "\n",
        "plt.show()"
      ],
      "execution_count": null,
      "outputs": []
    },
    {
      "cell_type": "code",
      "metadata": {
        "id": "tKdDfb2LlV2F"
      },
      "source": [
        "centers = kmeans_cluster_model.cluster_centers_"
      ],
      "execution_count": null,
      "outputs": []
    },
    {
      "cell_type": "code",
      "metadata": {
        "id": "J7AlNJvOlV2F"
      },
      "source": [
        "pts = np.asarray(new_data)"
      ],
      "execution_count": null,
      "outputs": []
    },
    {
      "cell_type": "code",
      "metadata": {
        "id": "tSxyiFrVlV2G"
      },
      "source": [
        "pts"
      ],
      "execution_count": null,
      "outputs": []
    },
    {
      "cell_type": "code",
      "metadata": {
        "id": "5SXieRKZlV2H"
      },
      "source": [
        "total_dist = pd.Series()"
      ],
      "execution_count": null,
      "outputs": []
    },
    {
      "cell_type": "code",
      "metadata": {
        "id": "KCln5uaNlV2H"
      },
      "source": [
        "def get_sum_square_distance(data, kmeans_cluster_model):\n",
        "    centers = kmeans_cluster_model.cluster_centers_\n",
        "    pts = np.asarray(data[requi_feature_cols])\n",
        "    total_dist = pd.Series()\n",
        "    for i in range(len(pts)):\n",
        "        dist = 0\n",
        "        for j in range(len(centers)):\n",
        "            a = np.linalg.norm(pts[i] - centers[j])\n",
        "            dist += a**2\n",
        "        total_dist.set_value(i, dist)\n",
        "\n",
        "    return total_dist"
      ],
      "execution_count": null,
      "outputs": []
    },
    {
      "cell_type": "code",
      "metadata": {
        "id": "Ur5Qg1rIlV2I"
      },
      "source": [
        "final_dataset['sum_squa_dist'] = get_sum_square_distance(new_data, kmeans_cluster_model)"
      ],
      "execution_count": null,
      "outputs": []
    },
    {
      "cell_type": "code",
      "metadata": {
        "id": "wwRMc8NplV2I"
      },
      "source": [
        "plt.hist(final_dataset['sum_squa_dist'], bins=100)"
      ],
      "execution_count": null,
      "outputs": []
    },
    {
      "cell_type": "code",
      "metadata": {
        "id": "HrOhuFtRlV2J"
      },
      "source": [
        "cutoff = 6"
      ],
      "execution_count": null,
      "outputs": []
    },
    {
      "cell_type": "code",
      "metadata": {
        "id": "gFKrdMwylV2J"
      },
      "source": [
        "final_dataset['anomaly_kmeans'] = (final_dataset['sum_squa_dist'] >= cutoff).astype(int)"
      ],
      "execution_count": null,
      "outputs": []
    },
    {
      "cell_type": "code",
      "metadata": {
        "id": "sWrPgDc3lV2K"
      },
      "source": [
        "sns.scatterplot(\n",
        "    x=\"tsne-2d-one\", y=\"tsne-2d-two\",\n",
        "    hue=\"anomaly_kmeans\",\n",
        "    data=final_dataset,\n",
        "    legend=\"full\",\n",
        "    alpha=1\n",
        ")"
      ],
      "execution_count": null,
      "outputs": []
    },
    {
      "cell_type": "code",
      "metadata": {
        "id": "qtloQTnHlV2L"
      },
      "source": [
        "final_dataset.loc[final_dataset['anomaly_kmeans']==1]"
      ],
      "execution_count": null,
      "outputs": []
    },
    {
      "cell_type": "markdown",
      "metadata": {
        "id": "8f1HeYDSlV2L"
      },
      "source": [
        "# Isolated Forest"
      ]
    },
    {
      "cell_type": "code",
      "metadata": {
        "id": "JwWadVMQlV2M"
      },
      "source": [
        "from sklearn.ensemble import IsolationForest"
      ],
      "execution_count": null,
      "outputs": []
    },
    {
      "cell_type": "code",
      "metadata": {
        "id": "O1_Z4J-ElV2M"
      },
      "source": [
        "outlier_frac = 0.028"
      ],
      "execution_count": null,
      "outputs": []
    },
    {
      "cell_type": "code",
      "metadata": {
        "id": "-OS2FFwTlV2N"
      },
      "source": [
        "final_dataset.columns"
      ],
      "execution_count": null,
      "outputs": []
    },
    {
      "cell_type": "code",
      "metadata": {
        "id": "kf_Iuvv6lV2N"
      },
      "source": [
        "new_data.head()"
      ],
      "execution_count": null,
      "outputs": []
    },
    {
      "cell_type": "code",
      "metadata": {
        "id": "DriEFmtvlV2O"
      },
      "source": [
        "iso_model =  IsolationForest(n_jobs=-1, n_estimators=200, max_features=3, random_state=RANDOM_STATE, contamination=outlier_frac)"
      ],
      "execution_count": null,
      "outputs": []
    },
    {
      "cell_type": "code",
      "metadata": {
        "id": "igNziIz-lV2O"
      },
      "source": [
        "iso_model.fit(new_data)"
      ],
      "execution_count": null,
      "outputs": []
    },
    {
      "cell_type": "code",
      "metadata": {
        "id": "XZjh1aH9lV2P"
      },
      "source": [
        "final_dataset['anomaly_isolated'] = pd.Series(iso_model.predict(new_data))"
      ],
      "execution_count": null,
      "outputs": []
    },
    {
      "cell_type": "code",
      "metadata": {
        "id": "5EJRaC3PlV2Q"
      },
      "source": [
        "final_dataset['anomaly_isolated'] = final_dataset['anomaly_isolated'].map( {1: 0, -1: 1} )"
      ],
      "execution_count": null,
      "outputs": []
    },
    {
      "cell_type": "code",
      "metadata": {
        "id": "IGXcOrQ3lV2Q"
      },
      "source": [
        "final_dataset['anomaly_isolated'].value_counts()"
      ],
      "execution_count": null,
      "outputs": []
    },
    {
      "cell_type": "code",
      "metadata": {
        "id": "LGH-15OslV2R"
      },
      "source": [
        "sns.scatterplot(\n",
        "    x=\"tsne-2d-one\", y=\"tsne-2d-two\",\n",
        "    hue=\"anomaly_isolated\",\n",
        "    data=final_dataset,\n",
        "    legend=\"full\",\n",
        "    alpha=1\n",
        ")"
      ],
      "execution_count": null,
      "outputs": []
    },
    {
      "cell_type": "code",
      "metadata": {
        "id": "JOnKumuelV2R"
      },
      "source": [
        "final_dataset.loc[final_dataset['anomaly_isolated']==1]"
      ],
      "execution_count": null,
      "outputs": []
    },
    {
      "cell_type": "markdown",
      "metadata": {
        "id": "0JyuHBgllV2S"
      },
      "source": [
        "# One Class SVM"
      ]
    },
    {
      "cell_type": "code",
      "metadata": {
        "id": "6BOv58TZlV2T"
      },
      "source": [
        "from sklearn.svm import OneClassSVM"
      ],
      "execution_count": null,
      "outputs": []
    },
    {
      "cell_type": "code",
      "metadata": {
        "id": "c8NcvmLMlV2T"
      },
      "source": [
        "svm_model =  OneClassSVM(nu=outlier_frac, degree=2, kernel='rbf')"
      ],
      "execution_count": null,
      "outputs": []
    },
    {
      "cell_type": "code",
      "metadata": {
        "id": "rCm5ZLhalV2U"
      },
      "source": [
        "new_data_clean = new_data.loc[new_data.total_count <=new_data.total_count.quantile(1-outlier_frac)]"
      ],
      "execution_count": null,
      "outputs": []
    },
    {
      "cell_type": "code",
      "metadata": {
        "id": "klUHsYx5lV2U"
      },
      "source": [
        "svm_model.fit(new_data_clean)"
      ],
      "execution_count": null,
      "outputs": []
    },
    {
      "cell_type": "code",
      "metadata": {
        "id": "gfdDEFG3lV2V"
      },
      "source": [
        "final_dataset['anomaly_svm'] = pd.Series(svm_model.predict(new_data))"
      ],
      "execution_count": null,
      "outputs": []
    },
    {
      "cell_type": "code",
      "metadata": {
        "id": "5y7Dc1fylV2V"
      },
      "source": [
        "final_dataset['anomaly_svm'] = final_dataset['anomaly_svm'].map( {1: 0, -1: 1} )"
      ],
      "execution_count": null,
      "outputs": []
    },
    {
      "cell_type": "code",
      "metadata": {
        "id": "pTTAaV50lV2W"
      },
      "source": [
        "final_dataset['anomaly_svm'].value_counts()"
      ],
      "execution_count": null,
      "outputs": []
    },
    {
      "cell_type": "code",
      "metadata": {
        "id": "NN_k6XGPlV2X"
      },
      "source": [
        "sns.scatterplot(\n",
        "    x=\"tsne-2d-one\", y=\"tsne-2d-two\",\n",
        "    hue=\"anomaly_svm\",\n",
        "    data=final_dataset,\n",
        "    legend=\"full\",\n",
        "    alpha=1\n",
        ")"
      ],
      "execution_count": null,
      "outputs": []
    },
    {
      "cell_type": "code",
      "metadata": {
        "id": "G1-wrK78lV2X"
      },
      "source": [
        "final_dataset.loc[final_dataset['anomaly_svm']==1]"
      ],
      "execution_count": null,
      "outputs": []
    },
    {
      "cell_type": "markdown",
      "metadata": {
        "id": "zOp5itAalV2Y"
      },
      "source": [
        "# Performance of the Algorithm"
      ]
    },
    {
      "cell_type": "markdown",
      "metadata": {
        "id": "3roEOI6jlV2Y"
      },
      "source": [
        "We must manually categorise the data and examine the performance of the individual algos because it is unsupervised."
      ]
    },
    {
      "cell_type": "code",
      "metadata": {
        "id": "Jr7tNvyclV2Z"
      },
      "source": [
        "total_counts_condition = (final_dataset['total_count'] >= final_dataset['total_count'].quantile(0.90))\n",
        "daily_counts_condition =  (final_dataset['daily_counts'] >= final_dataset['daily_counts'].quantile(0.90))"
      ],
      "execution_count": null,
      "outputs": []
    },
    {
      "cell_type": "code",
      "metadata": {
        "id": "mePxMroUlV2Z"
      },
      "source": [
        "final_dataset['anomaly_manual'] = (total_counts_condition | daily_counts_condition).astype(np.int)"
      ],
      "execution_count": null,
      "outputs": []
    },
    {
      "cell_type": "code",
      "metadata": {
        "id": "YfWavhrrlV2a"
      },
      "source": [
        "final_dataset.head()"
      ],
      "execution_count": null,
      "outputs": []
    },
    {
      "cell_type": "code",
      "metadata": {
        "id": "sGmMTjBPlV2a"
      },
      "source": [
        "from sklearn.metrics import f1_score, roc_auc_score, accuracy_score, confusion_matrix"
      ],
      "execution_count": null,
      "outputs": []
    },
    {
      "cell_type": "code",
      "metadata": {
        "id": "04MrJ70_lV2a"
      },
      "source": [
        "def get_sensitivity_specificity(y_true, y_pred):\n",
        "    cf = confusion_matrix(y_true, y_pred)\n",
        "    sensitivity = cf[0,0]/(cf[:,0].sum())\n",
        "    specificity = cf[1,1]/(cf[:,1].sum())\n",
        "    return sensitivity, specificity"
      ],
      "execution_count": null,
      "outputs": []
    },
    {
      "cell_type": "code",
      "metadata": {
        "id": "PCwNpOzAlV2b"
      },
      "source": [
        "f1_iso = f1_score(final_dataset['anomaly_manual'],final_dataset['anomaly_isolated'])\n",
        "acc_iso = accuracy_score(final_dataset['anomaly_manual'],final_dataset['anomaly_isolated'])\n",
        "roc_iso = roc_auc_score(final_dataset['anomaly_manual'],final_dataset['anomaly_isolated'])\n",
        "sen_iso, spec_iso = get_sensitivity_specificity(final_dataset['anomaly_manual'],final_dataset['anomaly_isolated'])\n",
        "met_iso = {\n",
        "           'f1_score': f1_iso,\n",
        "           'accuracy': acc_iso,\n",
        "           'roc_score': roc_iso,\n",
        "           'sensitivity': sen_iso,\n",
        "           'specificity': spec_iso\n",
        "          }"
      ],
      "execution_count": null,
      "outputs": []
    },
    {
      "cell_type": "code",
      "metadata": {
        "id": "_2ccl51FlV2c"
      },
      "source": [
        "f1_kmeans = f1_score(final_dataset['anomaly_manual'],final_dataset['anomaly_kmeans'])\n",
        "acc_kmeans = accuracy_score(final_dataset['anomaly_manual'],final_dataset['anomaly_kmeans'])\n",
        "roc_kmeans = roc_auc_score(final_dataset['anomaly_manual'],final_dataset['anomaly_kmeans'])\n",
        "sen_kmeans, spec_kmeans = get_sensitivity_specificity(final_dataset['anomaly_manual'],final_dataset['anomaly_kmeans'])\n",
        "met_kmeans = {\n",
        "           'f1_score': f1_kmeans,\n",
        "           'accuracy': acc_kmeans,\n",
        "           'roc_score': roc_kmeans,\n",
        "           'sensitivity': sen_kmeans,\n",
        "           'specificity': spec_kmeans\n",
        "          }"
      ],
      "execution_count": null,
      "outputs": []
    },
    {
      "cell_type": "code",
      "metadata": {
        "id": "OTXxs_D2lV2c"
      },
      "source": [
        "f1_svm = f1_score(final_dataset['anomaly_manual'],final_dataset['anomaly_svm'])\n",
        "acc_svm = accuracy_score(final_dataset['anomaly_manual'],final_dataset['anomaly_svm'])\n",
        "roc_svm = roc_auc_score(final_dataset['anomaly_manual'],final_dataset['anomaly_svm'])\n",
        "sen_svm, spec_svm = get_sensitivity_specificity(final_dataset['anomaly_manual'],final_dataset['anomaly_svm'])\n",
        "met_svm = {\n",
        "           'f1_score': f1_svm,\n",
        "           'accuracy': acc_svm,\n",
        "           'roc_score': roc_svm,\n",
        "           'sensitivity': sen_svm,\n",
        "           'specificity': spec_svm\n",
        "          }"
      ],
      "execution_count": null,
      "outputs": []
    },
    {
      "cell_type": "code",
      "metadata": {
        "id": "vO2YD5OdlV2d"
      },
      "source": [
        "metrics = {'isolated_forest': met_iso,\n",
        "           'kmeans': met_kmeans,\n",
        "           'svm': met_svm\n",
        "          }"
      ],
      "execution_count": null,
      "outputs": []
    },
    {
      "cell_type": "code",
      "metadata": {
        "id": "lHlR7Dd1lV2d"
      },
      "source": [
        "all_metrics = pd.DataFrame.from_dict(metrics)"
      ],
      "execution_count": null,
      "outputs": []
    },
    {
      "cell_type": "code",
      "metadata": {
        "id": "E1ERJ6talV2e"
      },
      "source": [
        "all_metrics"
      ],
      "execution_count": null,
      "outputs": []
    },
    {
      "cell_type": "markdown",
      "metadata": {
        "id": "VZTgjfBclf5v"
      },
      "source": [
        "# Ensemble models for Classification"
      ]
    },
    {
      "cell_type": "code",
      "metadata": {
        "id": "Y4BADvD_lV2e"
      },
      "source": [
        "from sklearn.preprocessing import LabelEncoder\n",
        "final_dataset['ip_address'] = LabelEncoder().fit_transform(final_dataset.iloc[:, -1])"
      ],
      "execution_count": null,
      "outputs": []
    },
    {
      "cell_type": "code",
      "metadata": {
        "id": "Hz7eO9TflV2e"
      },
      "source": [
        "features = ['ip_address', 'total_count', 'daily_counts', 'is_weekend_ratio', 'td_mean', 'td_max']\n",
        "X = final_dataset[features]\n",
        "y = final_dataset['anomaly_isolated']"
      ],
      "execution_count": null,
      "outputs": []
    },
    {
      "cell_type": "code",
      "metadata": {
        "id": "1YyqHKrYlV2f"
      },
      "source": [
        "X, y = final_dataset[features], final_dataset['anomaly_isolated']\n",
        "X.shape, y.shape"
      ],
      "execution_count": null,
      "outputs": []
    },
    {
      "cell_type": "markdown",
      "metadata": {
        "id": "4_TX46NwlV2f"
      },
      "source": [
        "## Baseline Classifier"
      ]
    },
    {
      "cell_type": "code",
      "metadata": {
        "id": "3jdKYI47lV2g"
      },
      "source": [
        "from sklearn.ensemble import RandomForestClassifier\n",
        "from sklearn.multiclass import OneVsRestClassifier\n",
        "from sklearn.neighbors import KNeighborsClassifier\n",
        "from sklearn.svm import SVC\n",
        "from sklearn.naive_bayes import GaussianNB\n",
        "from sklearn.ensemble import StackingClassifier\n",
        "from sklearn.linear_model import LogisticRegression\n",
        "\n",
        "from sklearn.model_selection import cross_val_score\n",
        "from sklearn.model_selection import RepeatedStratifiedKFold\n",
        "\n",
        "rf = OneVsRestClassifier(estimator = GaussianNB())\n",
        "\n",
        "# Create RepeatedStratifiedKFold cross-validator with 10 folds, 3 repeats and a seed of 1.\n",
        "cv = RepeatedStratifiedKFold(n_splits=10, n_repeats=3, random_state=20)\n",
        "\n",
        "# Calculating accuracy using `cross_val_score()` with model instantiated, data to fit,\n",
        "# target variable, 'accuracy' scoring, cross validator, n_jobs=-1, and error_score set to 'raise'\n",
        "n_scores = cross_val_score(rf, X, y, scoring='f1_weighted', cv=cv, error_score='raise')\n",
        "\n",
        "# Print mean and standard deviation of n_scores:\n",
        "print(n_scores)\n",
        "print('Baseline scores \\n mean f1 weighted: %.3f with a %.3f standard deviation in scores ' % (np.mean(n_scores), np.std(n_scores)))"
      ],
      "execution_count": null,
      "outputs": []
    },
    {
      "cell_type": "markdown",
      "metadata": {
        "id": "KxotQzIflV2g"
      },
      "source": [
        "## Stacking Classifier\n",
        "\n",
        "Stacking classifier takes:\n",
        "1. estimators: List of baseline classifiers\n",
        "\n",
        "2. final_estimator: Defined meta classifier\n",
        "\n",
        "3. cv: Number of cross validations to perform"
      ]
    },
    {
      "cell_type": "code",
      "metadata": {
        "id": "ItnFiYhBlV2h"
      },
      "source": [
        "def create_stacking_models():\n",
        "    base_models = list()\n",
        "    base_models.append(('KNNC', KNeighborsClassifier(n_neighbors = len(np.unique(y))\n",
        "                                                     , weights = 'distance')\n",
        "                       ))\n",
        "    base_models.append(('SVC', SVC(kernel = 'linear'\n",
        "                                   , class_weight = 'balanced'\n",
        "                                  , break_ties = True)\n",
        "                       ))\n",
        "    base_models.append(('GNB', GaussianNB()))\n",
        "    base_models.append(('RF', RandomForestClassifier(n_estimators= 200,\n",
        "                                                   oob_score = True,\n",
        "                                                   class_weight = \"balanced\",\n",
        "                                                   random_state = 20,\n",
        "                                                   ccp_alpha = 0.1)\n",
        "                       ))\n",
        "\n",
        "\n",
        "    meta_model = LogisticRegression()\n",
        "    final_model = StackingClassifier(estimators = base_models, ##Base estimators which will be stacked together\n",
        "                                     final_estimator = meta_model,\n",
        "                                     cv = 5\n",
        "                                    )\n",
        "    return final_model\n",
        "\n",
        "def models_all():\n",
        "    all_models = dict()\n",
        "    all_models['KNNC']= KNeighborsClassifier(n_neighbors = len(np.unique(y))\n",
        "                                             , weights = 'distance')\n",
        "    all_models['SVC']= SVC(kernel = 'linear'\n",
        "                           , class_weight = 'balanced'\n",
        "                          , break_ties = True\n",
        "                          )\n",
        "    all_models['RF']= RandomForestClassifier(n_estimators= 200,\n",
        "                                                   oob_score = True,\n",
        "                                                   class_weight = \"balanced\",\n",
        "                                                   random_state = 20,\n",
        "                                                   ccp_alpha = 0.15)\n",
        "    all_models['GNB'] = GaussianNB()\n",
        "    all_models['Stacking'] = create_stacking_models()\n",
        "    return all_models\n",
        "\n",
        "def evaluate_model(model):\n",
        "    cv = RepeatedStratifiedKFold(n_splits=10, n_repeats=3, random_state=42)\n",
        "    scores = cross_val_score(model, X, y, scoring='f1_weighted', cv=cv, error_score='raise')\n",
        "    return scores"
      ],
      "execution_count": null,
      "outputs": []
    },
    {
      "cell_type": "code",
      "metadata": {
        "scrolled": false,
        "id": "cRNFH_-alV2h"
      },
      "source": [
        "model_results = list()\n",
        "models = models_all()\n",
        "names = list()\n",
        "\n",
        "# Creating a for loop that iterates over each name, model in models dictionary\n",
        "for name, model in models.items():\n",
        "    scores = evaluate_model(model)\n",
        "    model_results.append(scores)\n",
        "    names.append(name)\n",
        "#   print(model_results)\n",
        "    print('>%s %.3f (%.3f) \\n' % (name, np.mean(scores), np.std(scores)))"
      ],
      "execution_count": null,
      "outputs": []
    },
    {
      "cell_type": "code",
      "metadata": {
        "id": "OtyU1nLKlV2i"
      },
      "source": [
        "plt.figure(figsize=(15,5))\n",
        "fig = sns.boxplot(x=names, y=model_results, showmeans=True)\n",
        "plt.title(\"Model Comparisions\")\n",
        "plt.show(fig)"
      ],
      "execution_count": null,
      "outputs": []
    },
    {
      "cell_type": "markdown",
      "metadata": {
        "id": "jdpXcSKmlV2i"
      },
      "source": [
        "### Conclusion\n",
        "- With a stacking model, we were able to get an F1 score of 96.7%, which was greater than the target of 81.1%"
      ]
    },
    {
      "cell_type": "code",
      "metadata": {
        "id": "10ef352e"
      },
      "source": [
        "!unzip logs_dataset.zip.2"
      ],
      "execution_count": null,
      "outputs": []
    }
  ]
}